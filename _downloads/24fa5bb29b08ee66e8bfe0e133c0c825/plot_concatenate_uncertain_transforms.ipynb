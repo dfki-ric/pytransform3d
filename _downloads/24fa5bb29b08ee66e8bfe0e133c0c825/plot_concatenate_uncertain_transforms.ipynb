{
  "cells": [
    {
      "cell_type": "markdown",
      "metadata": {},
      "source": [
        "\n# Concatenate Uncertain Transforms\n\nIn this example, we assume that a robot is moving with constant velocity\nalong the x-axis, however, there is noise in the orientation of the robot\nthat accumulates and leads to different paths when sampling. Uncertainty\naccumulation leads to the so-called banana distribution, which does not seem\nGaussian in Cartesian space, but it is Gaussian in exponential coordinates\nof SE(3).\n\nThis example adapted and modified to 3D from Barfoot and Furgale [1]_.\nThe banana distribution was analyzed in detail by Long et al. [2]_.\n"
      ]
    },
    {
      "cell_type": "code",
      "execution_count": null,
      "metadata": {
        "collapsed": false
      },
      "outputs": [],
      "source": [
        "import numpy as np\nimport matplotlib.pyplot as plt\nimport pytransform3d.transformations as pt\nimport pytransform3d.trajectories as ptr\nimport pytransform3d.uncertainty as pu\nimport pytransform3d.plot_utils as ppu"
      ]
    },
    {
      "cell_type": "markdown",
      "metadata": {},
      "source": [
        "We configure the example here. You can change the random seed if you want.\nWe assume $\\Delta t = 1 s$ and constant velocity, so that in each step\nwe concatenate the transformation $\\boldsymbol{T}_{vel}$ defined\nvia its exponential coordinates here. The covariance associated with\n$\\boldsymbol{T}_{vel}$ is constructed from its Cholesky decomposition\nthrough $\\boldsymbol{LL}^T$. Since it is a diagonal matrix at\nthe moment, we just define the standard deviation of each velocity component.\nIn the default configuration we have some uncertainty in the rotational\ncomponents of the velocity.\n\n"
      ]
    },
    {
      "cell_type": "code",
      "execution_count": null,
      "metadata": {
        "collapsed": false
      },
      "outputs": [],
      "source": [
        "rng = np.random.default_rng(0)\ncov_pose_chol = np.diag([0, 0.02, 0.03, 0, 0, 0])\ncov_pose = np.dot(cov_pose_chol, cov_pose_chol.T)\nvelocity_vector = np.array([0, 0, 0, 1.0, 0, 0])\nT_vel = pt.transform_from_exponential_coordinates(velocity_vector)\nn_steps = 100\nn_mc_samples = 1000\nn_skip_trajectories = 1  # plot every n-th trajectory"
      ]
    },
    {
      "cell_type": "markdown",
      "metadata": {},
      "source": [
        "We compute each path with respect to the initial pose of the robot, which\nwe set to $\\boldsymbol{I}_{4 \\times 4}$. The covariance of the initial\npose is $\\boldsymbol{0}_{6 \\times 6}$. We concatenate the current\npose with $\\boldsymbol{T}_{vel}$ in each step and factor in the\nuncertainty of the pose and the transformation. Hence, uncertainties will\naccumulate in the covariance of the pose.\n\n"
      ]
    },
    {
      "cell_type": "code",
      "execution_count": null,
      "metadata": {
        "collapsed": false
      },
      "outputs": [],
      "source": [
        "T_est = np.eye(4)\npath = np.zeros((n_steps + 1, 6))\npath[0] = pt.exponential_coordinates_from_transform(T_est)\ncov_est = np.zeros((6, 6))\nfor t in range(n_steps):\n    T_est, cov_est = pu.concat_globally_uncertain_transforms(\n        T_est, cov_est, T_vel, cov_pose)\n    path[t + 1] = pt.exponential_coordinates_from_transform(T_est)"
      ]
    },
    {
      "cell_type": "markdown",
      "metadata": {},
      "source": [
        "We perform Monte-Carlo sampling of trajectories for comparison.\nThis implementation is vectorized with NumPy.\n\n"
      ]
    },
    {
      "cell_type": "code",
      "execution_count": null,
      "metadata": {
        "collapsed": false
      },
      "outputs": [],
      "source": [
        "T = np.eye(4)\nmc_path = np.zeros((n_steps + 1, n_mc_samples, 4, 4))\nmc_path[0, :] = T\nfor t in range(n_steps):\n    noise_samples = ptr.transforms_from_exponential_coordinates(\n        cov_pose_chol.dot(rng.standard_normal(size=(6, n_mc_samples))).T)\n    step_samples = ptr.concat_many_to_one(noise_samples, T_vel)\n    mc_path[t + 1] = np.einsum(\"nij,njk->nik\", step_samples, mc_path[t])\n# Plot the random samples' trajectory lines (in a frame attached to the start)\n# same as mc_path[t, i, :3, :3].T.dot(mc_path[t, i, :3, 3]), but faster\nmc_path_vec = np.einsum(\n    \"tinm,tin->tim\", mc_path[:, :, :3, :3], mc_path[:, :, :3, 3])"
      ]
    },
    {
      "cell_type": "markdown",
      "metadata": {},
      "source": [
        "We plot the MC-sampled trajectories and final poses, mean trajectory,\nprojected equiprobably hyperellipsoid of the final distribution, and\nthe equiprobably ellipsoid of the final distribution of the position.\n\n"
      ]
    },
    {
      "cell_type": "code",
      "execution_count": null,
      "metadata": {
        "collapsed": false
      },
      "outputs": [],
      "source": [
        "ax = ppu.make_3d_axis(100)\n\nfor i in range(0, mc_path_vec.shape[1], n_skip_trajectories):\n    ax.plot(\n        mc_path_vec[:, i, 0], mc_path_vec[:, i, 1], mc_path_vec[:, i, 2],\n        lw=1, c=\"b\", alpha=0.05)\nax.scatter(\n    mc_path_vec[-1, :, 0], mc_path_vec[-1, :, 1], mc_path_vec[-1, :, 2],\n    s=3, c=\"b\")\n\nptr.plot_trajectory(ax, ptr.pqs_from_transforms(\n    ptr.transforms_from_exponential_coordinates(path)), s=5.0, lw=3)\n\npu.plot_projected_ellipsoid(\n    ax, T_est, cov_est, wireframe=False, alpha=0.3, color=\"y\", factor=3.0)\npu.plot_projected_ellipsoid(\n    ax, T_est, cov_est, wireframe=True, alpha=0.5, color=\"y\", factor=3.0)\n\nmean_mc = np.mean(mc_path_vec[-1, :], axis=0)\ncov_mc = np.cov(mc_path_vec[-1, :], rowvar=False)\n\nellipsoid2origin, radii = pu.to_ellipsoid(mean_mc, cov_mc)\nppu.plot_ellipsoid(\n    ax, 3.0 * radii, ellipsoid2origin, wireframe=False, alpha=0.1, color=\"m\")\nppu.plot_ellipsoid(\n    ax, 3.0 * radii, ellipsoid2origin, wireframe=True, alpha=0.3, color=\"m\")\n\nplt.xlim((-5, 105))\nplt.ylim((-50, 50))\nplt.xlabel(\"x\")\nplt.ylabel(\"y\")\nax.view_init(elev=70, azim=-90)\nplt.show()"
      ]
    },
    {
      "cell_type": "markdown",
      "metadata": {},
      "source": [
        "## References\n.. [1] Barfoot, T. D., Furgale, P. T. (2014). Associating Uncertainty With\n   Three-Dimensional Poses for Use in Estimation Problems. IEEE Transactions on\n   Robotics 30(3), pp. 679-693, doi: 10.1109/TRO.2014.2298059.\n\n.. [2] Long, A. W., Wolfe, K. C., Mashner, M. J., Chirikjian, G. S. (2013).\n   The Banana Distribution is Gaussian: A Localization Study with Exponential\n   Coordinates. In Robotics: Science and Systems VIII, pp. 265-272.\n   http://www.roboticsproceedings.org/rss08/p34.pdf\n\n"
      ]
    }
  ],
  "metadata": {
    "kernelspec": {
      "display_name": "Python 3",
      "language": "python",
      "name": "python3"
    },
    "language_info": {
      "codemirror_mode": {
        "name": "ipython",
        "version": 3
      },
      "file_extension": ".py",
      "mimetype": "text/x-python",
      "name": "python",
      "nbconvert_exporter": "python",
      "pygments_lexer": "ipython3",
      "version": "3.11.9"
    }
  },
  "nbformat": 4,
  "nbformat_minor": 0
}