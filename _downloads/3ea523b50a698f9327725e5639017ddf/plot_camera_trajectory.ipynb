{
  "cells": [
    {
      "cell_type": "markdown",
      "metadata": {},
      "source": [
        "\n# Camera Trajectory\n\nThe following illustration shows a camera's trajectory that has has been\nestimated from odometry. This specific trajectory has been used to reconstruct\na colored mesh from a depth camera and an RGB camera.\n"
      ]
    },
    {
      "cell_type": "code",
      "execution_count": null,
      "metadata": {
        "collapsed": false
      },
      "outputs": [],
      "source": [
        "import os\nimport numpy as np\nimport matplotlib.pyplot as plt\nimport pytransform3d.transformations as pt\nimport pytransform3d.trajectories as ptr\nimport pytransform3d.rotations as pr\nimport pytransform3d.camera as pc\nfrom cycler import cycle\n\n\nBASE_DIR = \"test/test_data/\"\ndata_dir = BASE_DIR\nsearch_path = \".\"\nwhile (not os.path.exists(data_dir) and\n       os.path.dirname(search_path) != \"pytransform3d\"):\n    search_path = os.path.join(search_path, \"..\")\n    data_dir = os.path.join(search_path, BASE_DIR)\n\nintrinsic_matrix = np.loadtxt(os.path.join(\n    data_dir, \"reconstruction_camera_matrix.csv\"), delimiter=\",\")\n\nP = np.loadtxt(os.path.join(data_dir, \"reconstruction_odometry.csv\"),\n               delimiter=\",\", skiprows=1)\nfor t in range(len(P)):\n    P[t, 3:] = pr.quaternion_wxyz_from_xyzw(P[t, 3:])\ncam2world_trajectory = ptr.transforms_from_pqs(P)\n\nplt.figure(figsize=(5, 5))\nax = pt.plot_transform(s=0.3)\nax = ptr.plot_trajectory(ax, P=P, s=0.1, n_frames=10)\n\nimage_size = np.array([1920, 1440])\n\nkey_frames_indices = np.linspace(0, len(P) - 1, 10, dtype=int)\ncolors = cycle(\"rgb\")\nfor i, c in zip(key_frames_indices, colors):\n    pc.plot_camera(ax, intrinsic_matrix, cam2world_trajectory[i],\n                   sensor_size=image_size, virtual_image_distance=0.2, c=c)\n\npos_min = np.min(P[:, :3], axis=0)\npos_max = np.max(P[:, :3], axis=0)\ncenter = (pos_max + pos_min) / 2.0\nmax_half_extent = max(pos_max - pos_min) / 2.0\nax.set_xlim((center[0] - max_half_extent, center[0] + max_half_extent))\nax.set_ylim((center[1] - max_half_extent, center[1] + max_half_extent))\nax.set_zlim((center[2] - max_half_extent, center[2] + max_half_extent))\n\nax.view_init(azim=110, elev=40)\n\nplt.show()"
      ]
    }
  ],
  "metadata": {
    "kernelspec": {
      "display_name": "Python 3",
      "language": "python",
      "name": "python3"
    },
    "language_info": {
      "codemirror_mode": {
        "name": "ipython",
        "version": 3
      },
      "file_extension": ".py",
      "mimetype": "text/x-python",
      "name": "python",
      "nbconvert_exporter": "python",
      "pygments_lexer": "ipython3",
      "version": "3.11.9"
    }
  },
  "nbformat": 4,
  "nbformat_minor": 0
}