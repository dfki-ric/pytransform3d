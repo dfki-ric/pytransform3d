{
  "cells": [
    {
      "cell_type": "markdown",
      "metadata": {},
      "source": [
        "\n# Construct Rotation Matrix from Two Vectors\n\nWe compute rotation matrix from two vectors that form a plane. The x-axis will\npoint in the same direction as the first vector, the y-axis corresponds to the\nnormalized vector rejection of b on a, and the z-axis is the cross product of\nthe other basis vectors.\n"
      ]
    },
    {
      "cell_type": "code",
      "execution_count": null,
      "metadata": {
        "collapsed": false
      },
      "outputs": [],
      "source": [
        "import numpy as np\nimport matplotlib.pyplot as plt\nfrom pytransform3d.rotations import (\n    matrix_from_two_vectors, plot_basis, random_vector)\nfrom pytransform3d.plot_utils import plot_vector\n\n\nrng = np.random.default_rng(1)\na = random_vector(rng, 3) * 0.3\nb = random_vector(rng, 3) * 0.3\nR = matrix_from_two_vectors(a, b)\n\nax = plot_vector(direction=a, color=\"r\")\nplot_vector(ax=ax, direction=b, color=\"g\")\nplot_basis(ax=ax, R=R)\nplt.show()"
      ]
    }
  ],
  "metadata": {
    "kernelspec": {
      "display_name": "Python 3",
      "language": "python",
      "name": "python3"
    },
    "language_info": {
      "codemirror_mode": {
        "name": "ipython",
        "version": 3
      },
      "file_extension": ".py",
      "mimetype": "text/x-python",
      "name": "python",
      "nbconvert_exporter": "python",
      "pygments_lexer": "ipython3",
      "version": "3.11.9"
    }
  },
  "nbformat": 4,
  "nbformat_minor": 0
}