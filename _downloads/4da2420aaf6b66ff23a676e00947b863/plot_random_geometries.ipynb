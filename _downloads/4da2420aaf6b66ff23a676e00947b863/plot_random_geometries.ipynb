{
  "cells": [
    {
      "cell_type": "markdown",
      "metadata": {},
      "source": [
        "\n# Plot Random Geometries\n\nPlotting of several geometric shapes is directly supported by the library.\n"
      ]
    },
    {
      "cell_type": "code",
      "execution_count": null,
      "metadata": {
        "collapsed": false
      },
      "outputs": [],
      "source": [
        "import numpy as np\nimport matplotlib.pyplot as plt\nfrom pytransform3d.plot_utils import (\n    make_3d_axis, plot_box, plot_sphere, plot_cylinder, plot_ellipsoid,\n    plot_capsule, plot_cone)\nfrom pytransform3d.transformations import (\n    random_transform, plot_transform, translate_transform)\n\n\nrng = np.random.default_rng(2834)\nax = make_3d_axis(2)\n\nbox2origin = random_transform(rng)\nsize = rng.random(size=3) * 3\nplot_transform(ax=ax, A2B=box2origin, s=0.3)\nplot_box(ax=ax, A2B=box2origin, size=size, color=\"b\", alpha=0.5,\n         wireframe=False)\n\np = rng.standard_normal(size=3)\nradius = float(rng.random())\nplot_transform(ax=ax, A2B=translate_transform(np.eye(4), p), s=0.3)\nplot_sphere(ax=ax, p=p, radius=radius, color=\"y\", alpha=0.5, wireframe=False)\n\ncylinder2origin = random_transform(rng)\nlength = float(rng.random()) * 5\nradius = float(rng.random())\nplot_transform(ax=ax, A2B=cylinder2origin, s=0.3)\nplot_cylinder(ax=ax, A2B=cylinder2origin, length=length, radius=radius,\n              color=\"g\", alpha=0.5, wireframe=False)\n\nellipsoid2origin = random_transform(rng)\nradii = rng.random(size=3) * 3\nplot_transform(ax=ax, A2B=ellipsoid2origin, s=0.3)\nplot_ellipsoid(ax=ax, A2B=ellipsoid2origin, radii=radii, color=\"m\", alpha=0.5,\n               wireframe=False)\n\ncapsule2origin = random_transform(rng)\nheight = float(rng.random()) * 2\nradius = float(rng.random())\nplot_transform(ax=ax, A2B=capsule2origin, s=0.3)\nplot_capsule(ax=ax, A2B=capsule2origin, height=height, radius=radius,\n             color=\"r\", alpha=0.5, wireframe=False)\n\ncone2origin = random_transform(rng)\nheight = float(rng.random()) * 5\nradius = float(rng.random())\nplot_transform(ax=ax, A2B=cone2origin, s=0.3)\nplot_cone(ax=ax, A2B=cone2origin, height=height, radius=radius, color=\"c\",\n          alpha=0.5, wireframe=False)\n\nplt.show()"
      ]
    }
  ],
  "metadata": {
    "kernelspec": {
      "display_name": "Python 3",
      "language": "python",
      "name": "python3"
    },
    "language_info": {
      "codemirror_mode": {
        "name": "ipython",
        "version": 3
      },
      "file_extension": ".py",
      "mimetype": "text/x-python",
      "name": "python",
      "nbconvert_exporter": "python",
      "pygments_lexer": "ipython3",
      "version": "3.11.9"
    }
  },
  "nbformat": 4,
  "nbformat_minor": 0
}