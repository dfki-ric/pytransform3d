{
  "cells": [
    {
      "cell_type": "markdown",
      "metadata": {},
      "source": [
        "\n# Plot Random Geometries\n\nPlotting of several geometric shapes is directly supported by the library.\n"
      ]
    },
    {
      "cell_type": "code",
      "execution_count": null,
      "metadata": {
        "collapsed": false
      },
      "outputs": [],
      "source": [
        "import matplotlib.pyplot as plt\nimport numpy as np\n\nfrom pytransform3d.plot_utils import (\n    make_3d_axis,\n    plot_box,\n    plot_sphere,\n    plot_cylinder,\n    plot_ellipsoid,\n    plot_capsule,\n    plot_cone,\n)\nfrom pytransform3d.transformations import (\n    random_transform,\n    plot_transform,\n    translate_transform,\n)\n\nrng = np.random.default_rng(2832)"
      ]
    },
    {
      "cell_type": "markdown",
      "metadata": {},
      "source": [
        "A box is defined by its size along the three main axes and its pose.\n\n"
      ]
    },
    {
      "cell_type": "code",
      "execution_count": null,
      "metadata": {
        "collapsed": false
      },
      "outputs": [],
      "source": [
        "box2origin = random_transform(rng)\nbox_size = rng.random(size=3) * 3"
      ]
    },
    {
      "cell_type": "markdown",
      "metadata": {},
      "source": [
        "A sphere is defined by its position and radius.\n\n"
      ]
    },
    {
      "cell_type": "code",
      "execution_count": null,
      "metadata": {
        "collapsed": false
      },
      "outputs": [],
      "source": [
        "sphere_position = rng.standard_normal(size=3)\nsphere_radius = float(rng.random())"
      ]
    },
    {
      "cell_type": "markdown",
      "metadata": {},
      "source": [
        "A cylinder is defined by its length, radius, and pose.\n\n"
      ]
    },
    {
      "cell_type": "code",
      "execution_count": null,
      "metadata": {
        "collapsed": false
      },
      "outputs": [],
      "source": [
        "cylinder2origin = random_transform(rng)\nlength = float(rng.random()) * 5\ncylinder_radius = float(rng.random())"
      ]
    },
    {
      "cell_type": "markdown",
      "metadata": {},
      "source": [
        "An ellipsoid is defined by its 3 radii and pose.\n\n"
      ]
    },
    {
      "cell_type": "code",
      "execution_count": null,
      "metadata": {
        "collapsed": false
      },
      "outputs": [],
      "source": [
        "ellipsoid2origin = random_transform(rng)\nradii = rng.random(size=3) * 3"
      ]
    },
    {
      "cell_type": "markdown",
      "metadata": {},
      "source": [
        "A capsule is defined by its height, radius, and pose.\n\n"
      ]
    },
    {
      "cell_type": "code",
      "execution_count": null,
      "metadata": {
        "collapsed": false
      },
      "outputs": [],
      "source": [
        "capsule2origin = random_transform(rng)\ncapsule_height = float(rng.random()) * 2\ncapsule_radius = float(rng.random())"
      ]
    },
    {
      "cell_type": "markdown",
      "metadata": {},
      "source": [
        "A cone is defined by its height, radius, and pose.\n\n"
      ]
    },
    {
      "cell_type": "code",
      "execution_count": null,
      "metadata": {
        "collapsed": false
      },
      "outputs": [],
      "source": [
        "cone2origin = random_transform(rng)\ncone_height = float(rng.random()) * 5\ncone_radius = float(rng.random())"
      ]
    },
    {
      "cell_type": "markdown",
      "metadata": {},
      "source": [
        "The following part shows pytransform3d's 3D plotting functions.\n\n"
      ]
    },
    {
      "cell_type": "code",
      "execution_count": null,
      "metadata": {
        "collapsed": false
      },
      "outputs": [],
      "source": [
        "ax = make_3d_axis(2)\n\nplot_transform(ax=ax, A2B=box2origin, s=0.3)\nplot_box(\n    ax=ax, A2B=box2origin, size=box_size, color=\"b\", alpha=0.5, wireframe=False\n)\n\nplot_transform(\n    ax=ax, A2B=translate_transform(np.eye(4), sphere_position), s=0.3\n)\nplot_sphere(\n    ax=ax,\n    p=sphere_position,\n    radius=sphere_radius,\n    color=\"y\",\n    alpha=0.5,\n    wireframe=False,\n)\n\nplot_transform(ax=ax, A2B=cylinder2origin, s=0.3)\nplot_cylinder(\n    ax=ax,\n    A2B=cylinder2origin,\n    length=length,\n    radius=cylinder_radius,\n    color=\"g\",\n    alpha=0.5,\n    wireframe=False,\n)\n\nplot_transform(ax=ax, A2B=ellipsoid2origin, s=0.3)\nplot_ellipsoid(\n    ax=ax,\n    A2B=ellipsoid2origin,\n    radii=radii,\n    color=\"m\",\n    alpha=0.5,\n    wireframe=False,\n)\n\nplot_transform(ax=ax, A2B=capsule2origin, s=0.3)\nplot_capsule(\n    ax=ax,\n    A2B=capsule2origin,\n    height=capsule_height,\n    radius=capsule_radius,\n    color=\"r\",\n    alpha=0.5,\n    wireframe=False,\n)\n\nplot_transform(ax=ax, A2B=cone2origin, s=0.3)\nplot_cone(\n    ax=ax,\n    A2B=cone2origin,\n    height=cone_height,\n    radius=cone_radius,\n    color=\"c\",\n    alpha=0.5,\n    wireframe=False,\n)\n\nplt.show()"
      ]
    }
  ],
  "metadata": {
    "kernelspec": {
      "display_name": "Python 3",
      "language": "python",
      "name": "python3"
    },
    "language_info": {
      "codemirror_mode": {
        "name": "ipython",
        "version": 3
      },
      "file_extension": ".py",
      "mimetype": "text/x-python",
      "name": "python",
      "nbconvert_exporter": "python",
      "pygments_lexer": "ipython3",
      "version": "3.12.9"
    }
  },
  "nbformat": 4,
  "nbformat_minor": 0
}