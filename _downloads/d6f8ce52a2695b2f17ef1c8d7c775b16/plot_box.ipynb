{
  "cells": [
    {
      "cell_type": "markdown",
      "metadata": {},
      "source": [
        "\n# Plot Box\n"
      ]
    },
    {
      "cell_type": "code",
      "execution_count": null,
      "metadata": {
        "collapsed": false
      },
      "outputs": [],
      "source": [
        "import matplotlib.pyplot as plt\nimport numpy as np\n\nfrom pytransform3d.plot_utils import (\n    plot_box,\n    plot_length_variable,\n    remove_frame,\n)\nfrom pytransform3d.transformations import plot_transform\n\nplt.figure()\nax = plot_box(size=[1, 1, 1], wireframe=False, alpha=0.1, color=\"k\", ax_s=0.6)\nplot_transform(ax=ax)\nplot_box(ax=ax, size=[1, 1, 1], wireframe=True, alpha=0.3)\nplot_length_variable(\n    ax=ax,\n    start=np.array([-0.5, -0.5, 0.55]),\n    end=np.array([0.5, -0.5, 0.55]),\n    name=\"a\",\n    fontsize=14,\n    fontfamily=\"serif\",\n)\nplot_length_variable(\n    ax=ax,\n    start=np.array([0.55, -0.5, 0.5]),\n    end=np.array([0.55, 0.5, 0.5]),\n    name=\"b\",\n    fontsize=14,\n    fontfamily=\"serif\",\n)\nplot_length_variable(\n    ax=ax,\n    start=np.array([-0.55, -0.5, -0.5]),\n    end=np.array([-0.55, -0.5, 0.5]),\n    name=\"c\",\n    fontsize=14,\n    fontfamily=\"serif\",\n)\nremove_frame(ax)\nplt.show()"
      ]
    }
  ],
  "metadata": {
    "kernelspec": {
      "display_name": "Python 3",
      "language": "python",
      "name": "python3"
    },
    "language_info": {
      "codemirror_mode": {
        "name": "ipython",
        "version": 3
      },
      "file_extension": ".py",
      "mimetype": "text/x-python",
      "name": "python",
      "nbconvert_exporter": "python",
      "pygments_lexer": "ipython3",
      "version": "3.11.9"
    }
  },
  "nbformat": 4,
  "nbformat_minor": 0
}