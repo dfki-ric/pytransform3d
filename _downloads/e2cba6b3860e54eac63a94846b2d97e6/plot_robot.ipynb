{
  "cells": [
    {
      "cell_type": "markdown",
      "metadata": {},
      "source": [
        "\n# Robot\n\nWe see a 6-DOF robot arm with visuals.\n"
      ]
    },
    {
      "cell_type": "code",
      "execution_count": null,
      "metadata": {
        "collapsed": false
      },
      "outputs": [],
      "source": [
        "import os\nimport numpy as np\nimport matplotlib.pyplot as plt\nfrom pytransform3d.urdf import UrdfTransformManager\n\n\nBASE_DIR = \"test/test_data/\"\ndata_dir = BASE_DIR\nsearch_path = \".\"\nwhile (not os.path.exists(data_dir) and\n       os.path.dirname(search_path) != \"pytransform3d\"):\n    search_path = os.path.join(search_path, \"..\")\n    data_dir = os.path.join(search_path, BASE_DIR)\n\ntm = UrdfTransformManager()\nfilename = os.path.join(data_dir, \"robot_with_visuals.urdf\")\nwith open(filename, \"r\") as f:\n    robot_urdf = f.read()\n    tm.load_urdf(robot_urdf, mesh_path=data_dir)\ntm.set_joint(\"joint2\", 0.2 * np.pi)\ntm.set_joint(\"joint3\", 0.2 * np.pi)\ntm.set_joint(\"joint5\", 0.1 * np.pi)\ntm.set_joint(\"joint6\", 0.5 * np.pi)\n\ntm.plot_visuals(\"robot_arm\", ax_s=0.6, alpha=0.7)\nplt.show()"
      ]
    }
  ],
  "metadata": {
    "kernelspec": {
      "display_name": "Python 3",
      "language": "python",
      "name": "python3"
    },
    "language_info": {
      "codemirror_mode": {
        "name": "ipython",
        "version": 3
      },
      "file_extension": ".py",
      "mimetype": "text/x-python",
      "name": "python",
      "nbconvert_exporter": "python",
      "pygments_lexer": "ipython3",
      "version": "3.11.9"
    }
  },
  "nbformat": 4,
  "nbformat_minor": 0
}