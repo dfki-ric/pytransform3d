{
  "cells": [
    {
      "cell_type": "markdown",
      "metadata": {},
      "source": [
        "\n# Transformation Manager\n\nIn this example, we will use the TransformManager to infer a transformation\nautomatically.\n"
      ]
    },
    {
      "cell_type": "code",
      "execution_count": null,
      "metadata": {
        "collapsed": false
      },
      "outputs": [],
      "source": [
        "import numpy as np\nimport matplotlib.pyplot as plt\nfrom pytransform3d import rotations as pr\nfrom pytransform3d import transformations as pt\nfrom pytransform3d.transform_manager import TransformManager\n\n\nrng = np.random.default_rng(1)\n\nee2robot = pt.transform_from_pq(\n    np.hstack((np.array([0.4, -0.3, 0.5]),\n               pr.random_quaternion(rng))))\ncam2robot = pt.transform_from_pq(\n    np.hstack((np.array([0.0, 0.0, 0.8]), pr.q_id)))\nobject2cam = pt.transform_from(\n    pr.active_matrix_from_intrinsic_euler_xyz(np.array([0.0, 0.0, -0.5])),\n    np.array([0.5, 0.1, 0.1]))\n\ntm = TransformManager()\ntm.add_transform(\"end-effector\", \"robot\", ee2robot)\ntm.add_transform(\"camera\", \"robot\", cam2robot)\ntm.add_transform(\"object\", \"camera\", object2cam)\n\nee2object = tm.get_transform(\"end-effector\", \"object\")\n\nax = tm.plot_frames_in(\"robot\", s=0.1)\nax.set_xlim((-0.25, 0.75))\nax.set_ylim((-0.5, 0.5))\nax.set_zlim((0.0, 1.0))\nplt.show()"
      ]
    }
  ],
  "metadata": {
    "kernelspec": {
      "display_name": "Python 3",
      "language": "python",
      "name": "python3"
    },
    "language_info": {
      "codemirror_mode": {
        "name": "ipython",
        "version": 3
      },
      "file_extension": ".py",
      "mimetype": "text/x-python",
      "name": "python",
      "nbconvert_exporter": "python",
      "pygments_lexer": "ipython3",
      "version": "3.11.9"
    }
  },
  "nbformat": 4,
  "nbformat_minor": 0
}