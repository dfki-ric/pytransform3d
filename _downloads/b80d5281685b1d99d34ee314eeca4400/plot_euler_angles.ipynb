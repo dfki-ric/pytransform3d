{
  "cells": [
    {
      "cell_type": "markdown",
      "metadata": {},
      "source": [
        "\n# Euler Angles\n\nAny rotation can be represented by three consecutive rotations about three\nbasis vectors. Here we use the extrinsic xyz convention.\n"
      ]
    },
    {
      "cell_type": "code",
      "execution_count": null,
      "metadata": {
        "collapsed": false
      },
      "outputs": [],
      "source": [
        "import numpy as np\nimport matplotlib.pyplot as plt\nfrom pytransform3d import rotations as pr\nfrom pytransform3d.plot_utils import remove_frame\n\n\nalpha, beta, gamma = 0.5 * np.pi, 0.5 * np.pi, 0.5 * np.pi\np = np.array([1, 1, 1])\n\nplt.figure(figsize=(5, 5))\n\nax = pr.plot_basis(R=np.eye(3), p=-1.5 * p, ax_s=2)\npr.plot_axis_angle(ax, [1, 0, 0, alpha], -1.5 * p)\n\npr.plot_basis(\n    ax, pr.active_matrix_from_extrinsic_euler_xyz([alpha, 0, 0]), -0.5 * p)\npr.plot_axis_angle(ax, [0, 1, 0, beta], p=-0.5 * p)\n\npr.plot_basis(\n    ax, pr.active_matrix_from_extrinsic_euler_xyz([alpha, beta, 0]), 0.5 * p)\npr.plot_axis_angle(ax, [0, 0, 1, gamma], 0.5 * p)\n\npr.plot_basis(\n    ax,\n    pr.active_matrix_from_extrinsic_euler_xyz([alpha, beta, gamma]), 1.5 * p,\n    lw=5)\n\nremove_frame(ax)\n\nplt.show()"
      ]
    }
  ],
  "metadata": {
    "kernelspec": {
      "display_name": "Python 3",
      "language": "python",
      "name": "python3"
    },
    "language_info": {
      "codemirror_mode": {
        "name": "ipython",
        "version": 3
      },
      "file_extension": ".py",
      "mimetype": "text/x-python",
      "name": "python",
      "nbconvert_exporter": "python",
      "pygments_lexer": "ipython3",
      "version": "3.11.9"
    }
  },
  "nbformat": 4,
  "nbformat_minor": 0
}