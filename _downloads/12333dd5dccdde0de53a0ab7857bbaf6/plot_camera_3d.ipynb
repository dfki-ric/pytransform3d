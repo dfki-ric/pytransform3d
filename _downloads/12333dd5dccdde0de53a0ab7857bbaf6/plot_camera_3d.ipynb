{
  "cells": [
    {
      "cell_type": "markdown",
      "metadata": {},
      "source": [
        "\n# Camera Representation in 3D\n\nThis visualization is inspired by Blender's camera visualization. It will\nshow the camera center, a virtual image plane at a desired distance to the\ncamera center, and the top direction of the virtual image plane.\n"
      ]
    },
    {
      "cell_type": "code",
      "execution_count": null,
      "metadata": {
        "collapsed": false
      },
      "outputs": [],
      "source": [
        "import numpy as np\nimport matplotlib.pyplot as plt\nimport pytransform3d.camera as pc\nimport pytransform3d.transformations as pt\n\n\ncam2world = pt.transform_from_pq([0, 0, 0, np.sqrt(0.5), -np.sqrt(0.5), 0, 0])\n# default parameters of a camera in Blender\nsensor_size = np.array([0.036, 0.024])\nintrinsic_matrix = np.array([\n    [0.05, 0, sensor_size[0] / 2.0],\n    [0, 0.05, sensor_size[1] / 2.0],\n    [0, 0, 1]\n])\nvirtual_image_distance = 1\n\nax = pt.plot_transform(A2B=cam2world, s=0.2)\npc.plot_camera(\n    ax, cam2world=cam2world, M=intrinsic_matrix, sensor_size=sensor_size,\n    virtual_image_distance=virtual_image_distance)\nplt.show()"
      ]
    }
  ],
  "metadata": {
    "kernelspec": {
      "display_name": "Python 3",
      "language": "python",
      "name": "python3"
    },
    "language_info": {
      "codemirror_mode": {
        "name": "ipython",
        "version": 3
      },
      "file_extension": ".py",
      "mimetype": "text/x-python",
      "name": "python",
      "nbconvert_exporter": "python",
      "pygments_lexer": "ipython3",
      "version": "3.11.9"
    }
  },
  "nbformat": 4,
  "nbformat_minor": 0
}