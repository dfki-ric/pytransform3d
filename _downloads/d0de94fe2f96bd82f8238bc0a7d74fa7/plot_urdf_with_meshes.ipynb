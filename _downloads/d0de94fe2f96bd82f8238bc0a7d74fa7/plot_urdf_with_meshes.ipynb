{
  "cells": [
    {
      "cell_type": "markdown",
      "metadata": {},
      "source": [
        "\n# URDF with Meshes\n\nThis example shows how to load a URDF with STL meshes. This example must be\nrun from within the examples folder or the main folder because it uses a\nhard-coded path to the URDF file and the meshes.\n"
      ]
    },
    {
      "cell_type": "code",
      "execution_count": null,
      "metadata": {
        "collapsed": false
      },
      "outputs": [],
      "source": [
        "import os\nimport matplotlib.pyplot as plt\nfrom pytransform3d.urdf import UrdfTransformManager\n\n\nBASE_DIR = \"test/test_data/\"\ndata_dir = BASE_DIR\nsearch_path = \".\"\nwhile (not os.path.exists(data_dir) and\n       os.path.dirname(search_path) != \"pytransform3d\"):\n    search_path = os.path.join(search_path, \"..\")\n    data_dir = os.path.join(search_path, BASE_DIR)\n\ntm = UrdfTransformManager()\nwith open(os.path.join(data_dir, \"simple_mechanism.urdf\"), \"r\") as f:\n    tm.load_urdf(f.read(), mesh_path=data_dir)\ntm.set_joint(\"joint\", -1.1)\nax = tm.plot_frames_in(\n    \"lower_cone\", s=0.1, whitelist=[\"upper_cone\", \"lower_cone\"],\n    show_name=True)\nax = tm.plot_connections_in(\"lower_cone\", ax=ax)\ntm.plot_visuals(\"lower_cone\", ax=ax)\nax.set_xlim((-0.1, 0.15))\nax.set_ylim((-0.1, 0.15))\nax.set_zlim((0.0, 0.25))\nplt.show()"
      ]
    }
  ],
  "metadata": {
    "kernelspec": {
      "display_name": "Python 3",
      "language": "python",
      "name": "python3"
    },
    "language_info": {
      "codemirror_mode": {
        "name": "ipython",
        "version": 3
      },
      "file_extension": ".py",
      "mimetype": "text/x-python",
      "name": "python",
      "nbconvert_exporter": "python",
      "pygments_lexer": "ipython3",
      "version": "3.11.9"
    }
  },
  "nbformat": 4,
  "nbformat_minor": 0
}