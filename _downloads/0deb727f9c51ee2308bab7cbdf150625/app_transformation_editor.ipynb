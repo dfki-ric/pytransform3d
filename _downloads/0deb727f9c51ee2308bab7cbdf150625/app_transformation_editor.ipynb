{
  "cells": [
    {
      "cell_type": "markdown",
      "metadata": {},
      "source": [
        "\n# Transformation Editor\n\nThe transformation editor can be used to manipulate transformations.\n"
      ]
    },
    {
      "cell_type": "code",
      "execution_count": null,
      "metadata": {
        "collapsed": false
      },
      "outputs": [],
      "source": [
        "from pytransform3d.transform_manager import TransformManager\nfrom pytransform3d.editor import TransformEditor\nfrom pytransform3d.transformations import transform_from\nfrom pytransform3d.rotations import active_matrix_from_extrinsic_euler_xyx\n\n\ntm = TransformManager()\n\ntm.add_transform(\n    \"tree\", \"world\",\n    transform_from(\n        active_matrix_from_extrinsic_euler_xyx([0, 0.5, 0]),\n        [0, 0, 0.5]\n    )\n)\ntm.add_transform(\n    \"car\", \"world\",\n    transform_from(\n        active_matrix_from_extrinsic_euler_xyx([0.5, 0, 0]),\n        [0.5, 0, 0]\n    )\n)\n\nte = TransformEditor(tm, \"world\", s=0.3)\nte.show()\nprint(\"tree to world:\")\nprint(te.transform_manager.get_transform(\"tree\", \"world\"))"
      ]
    }
  ],
  "metadata": {
    "kernelspec": {
      "display_name": "Python 3",
      "language": "python",
      "name": "python3"
    },
    "language_info": {
      "codemirror_mode": {
        "name": "ipython",
        "version": 3
      },
      "file_extension": ".py",
      "mimetype": "text/x-python",
      "name": "python",
      "nbconvert_exporter": "python",
      "pygments_lexer": "ipython3",
      "version": "3.11.9"
    }
  },
  "nbformat": 4,
  "nbformat_minor": 0
}