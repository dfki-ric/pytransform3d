{
  "cells": [
    {
      "cell_type": "markdown",
      "metadata": {},
      "source": [
        "\n# Scatter Plot\n\nVisualizes a point collection.\n"
      ]
    },
    {
      "cell_type": "code",
      "execution_count": null,
      "metadata": {
        "collapsed": false
      },
      "outputs": [],
      "source": [
        "import numpy as np\nimport pytransform3d.visualizer as pv\n\n\nfig = pv.figure()\nrng = np.random.default_rng(41)\nP = rng.standard_normal(size=(100, 3))\ncolors = np.empty((100, 3))\nfor d in range(colors.shape[1]):\n    colors[:, d] = np.linspace(0, 1, len(colors))\nfig.scatter(P, c=colors)\nfig.plot_basis(R=np.eye(3), s=0.5)\nfig.view_init()\n\nif \"__file__\" in globals():\n    fig.show()\nelse:\n    fig.save_image(\"__open3d_rendered_image.jpg\")"
      ]
    }
  ],
  "metadata": {
    "kernelspec": {
      "display_name": "Python 3",
      "language": "python",
      "name": "python3"
    },
    "language_info": {
      "codemirror_mode": {
        "name": "ipython",
        "version": 3
      },
      "file_extension": ".py",
      "mimetype": "text/x-python",
      "name": "python",
      "nbconvert_exporter": "python",
      "pygments_lexer": "ipython3",
      "version": "3.11.9"
    }
  },
  "nbformat": 4,
  "nbformat_minor": 0
}