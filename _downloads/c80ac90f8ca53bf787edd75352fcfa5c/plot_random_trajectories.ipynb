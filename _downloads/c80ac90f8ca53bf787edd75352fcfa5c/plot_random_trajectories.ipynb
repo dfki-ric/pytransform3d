{
  "cells": [
    {
      "cell_type": "markdown",
      "metadata": {},
      "source": [
        "\n# Random Trajectories\n\nThese plots show several randomly generated trajectories. Each row shows a\ndifferent trajectory. On the left side you can see the position and orientation\nrepresented by small coordinate frames. On the right side you can see the\npositions over time.\n"
      ]
    },
    {
      "cell_type": "code",
      "execution_count": null,
      "metadata": {
        "collapsed": false
      },
      "outputs": [],
      "source": [
        "import matplotlib.pyplot as plt\nimport numpy as np\n\nimport pytransform3d.trajectories as ptr\nimport pytransform3d.transformations as pt"
      ]
    },
    {
      "cell_type": "markdown",
      "metadata": {},
      "source": [
        "We sample three random trajectories.\n\n"
      ]
    },
    {
      "cell_type": "code",
      "execution_count": null,
      "metadata": {
        "collapsed": false
      },
      "outputs": [],
      "source": [
        "n_trajectories = 3\ntrajectories = ptr.random_trajectories(\n    rng=np.random.default_rng(5),\n    n_trajectories=n_trajectories,\n    n_steps=1001,\n    start=np.eye(4),\n    goal=pt.transform_from(R=np.eye(3), p=0.3 * np.ones(3)),\n    scale=[200] * 3 + [50] * 3,\n)"
      ]
    },
    {
      "cell_type": "markdown",
      "metadata": {},
      "source": [
        "We plot the trajectory in 3D on the left and in 2D on the right.\n\n"
      ]
    },
    {
      "cell_type": "code",
      "execution_count": null,
      "metadata": {
        "collapsed": false
      },
      "outputs": [],
      "source": [
        "plt.figure(figsize=(8, 8))\nfor i in range(n_trajectories):\n    ax = plt.subplot(n_trajectories, 2, 1 + 2 * i, projection=\"3d\")\n    plt.setp(\n        ax,\n        xlim=(-0.1, 0.5),\n        ylim=(-0.1, 0.5),\n        zlim=(-0.1, 0.5),\n        xlabel=\"X\",\n        ylabel=\"Y\",\n    )\n    ax.set_xticks(())\n    ax.set_yticks(())\n    ax.set_zticks(())\n    ptr.plot_trajectory(\n        ax=ax, P=ptr.pqs_from_transforms(trajectories[i]), s=0.1\n    )\n\n    ax = plt.subplot(n_trajectories, 2, 2 + 2 * i)\n    for d in range(3):\n        plt.plot(trajectories[i, :, d, 3].T, label=\"XYZ\"[d])\n    if i != n_trajectories - 1:\n        ax.set_xticks(())\n    else:\n        ax.set_xlabel(\"Time step\")\n        ax.legend(loc=\"best\")\n    ax.set_ylabel(\"Position\")\n    ax.set_xlim((0, trajectories.shape[1] - 1))\n\nplt.tight_layout()\nplt.show()"
      ]
    }
  ],
  "metadata": {
    "kernelspec": {
      "display_name": "Python 3",
      "language": "python",
      "name": "python3"
    },
    "language_info": {
      "codemirror_mode": {
        "name": "ipython",
        "version": 3
      },
      "file_extension": ".py",
      "mimetype": "text/x-python",
      "name": "python",
      "nbconvert_exporter": "python",
      "pygments_lexer": "ipython3",
      "version": "3.11.9"
    }
  },
  "nbformat": 4,
  "nbformat_minor": 0
}