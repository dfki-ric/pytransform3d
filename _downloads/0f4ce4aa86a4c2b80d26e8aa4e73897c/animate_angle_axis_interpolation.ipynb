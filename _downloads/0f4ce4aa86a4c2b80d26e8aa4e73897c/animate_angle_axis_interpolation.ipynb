{
  "cells": [
    {
      "cell_type": "markdown",
      "metadata": {},
      "source": [
        "\n# Interpolate Between Axis-Angle Representations\n\nWe can interpolate between two orientations that are represented by an axis and\nan angle either linearly or with slerp (spherical linear interpolation).\nHere we compare both methods and measure the angular\nvelocity between two successive steps. We can see that linear interpolation\nresults in a non-constant angular velocity. Usually it is a better idea to\ninterpolate with slerp.\n"
      ]
    },
    {
      "cell_type": "code",
      "execution_count": null,
      "metadata": {
        "collapsed": false
      },
      "outputs": [],
      "source": [
        "import numpy as np\nimport matplotlib.pyplot as plt\nfrom mpl_toolkits.mplot3d import axes3d\nimport matplotlib.animation as animation\nfrom pytransform3d import rotations as pr\n\nvelocity = None\nlast_a = None\nrotation_axis = None\n\n\ndef interpolate_linear(start, end, t):\n    return (1 - t) * start + t * end\n\n\ndef update_lines(step, start, end, n_frames, rot, profile):\n    global velocity\n    global last_a\n\n    if step == 0:\n        velocity = []\n        last_a = start\n\n    if step <= n_frames / 2:\n        t = step / float(n_frames / 2 - 1)\n        a = pr.axis_angle_slerp(start, end, t)\n    else:\n        t = (step - n_frames / 2) / float(n_frames / 2 - 1)\n        a = interpolate_linear(end, start, t)\n\n    R = pr.matrix_from_axis_angle(a)\n\n    # Draw new frame\n    rot[0].set_data(np.array([0, R[0, 0]]), [0, R[1, 0]])\n    rot[0].set_3d_properties([0, R[2, 0]])\n\n    rot[1].set_data(np.array([0, R[0, 1]]), [0, R[1, 1]])\n    rot[1].set_3d_properties([0, R[2, 1]])\n\n    rot[2].set_data(np.array([0, R[0, 2]]), [0, R[1, 2]])\n    rot[2].set_3d_properties([0, R[2, 2]])\n\n    # Update vector in frame\n    test = R.dot(np.ones(3) / np.sqrt(3.0))\n    rot[3].set_data(\n        np.array([test[0] / 2.0, test[0]]), [test[1] / 2.0, test[1]])\n    rot[3].set_3d_properties([test[2] / 2.0, test[2]])\n\n    velocity.append(\n        pr.angle_between_vectors(a[:3], last_a[:3]) + a[3] - last_a[3])\n    last_a = a\n    profile.set_data(np.linspace(0, 1, n_frames)[:len(velocity)], velocity)\n\n    return rot\n\n\nif __name__ == \"__main__\":\n    # Generate random start and goal\n    np.random.seed(3)\n    start = np.array([0, 0, 0, np.pi])\n    start[:3] = pr.norm_vector(np.random.randn(3))\n    end = np.array([0, 0, 0, np.pi])\n    end[:3] = pr.norm_vector(np.random.randn(3))\n    n_frames = 100\n\n    fig = plt.figure(figsize=(12, 5))\n\n    ax = fig.add_subplot(121, projection=\"3d\")\n    ax.set_xlim((-1, 1))\n    ax.set_ylim((-1, 1))\n    ax.set_zlim((-1, 1))\n    ax.set_xlabel(\"X\")\n    ax.set_ylabel(\"Y\")\n    ax.set_zlabel(\"Z\")\n\n    Rs = pr.matrix_from_axis_angle(start)\n    Re = pr.matrix_from_axis_angle(end)\n\n    rot = [ax.plot([0, 1], [0, 0], [0, 0], c=\"r\", lw=3)[0],\n           ax.plot([0, 0], [0, 1], [0, 0], c=\"g\", lw=3)[0],\n           ax.plot([0, 0], [0, 0], [0, 1], c=\"b\", lw=3)[0],\n           ax.plot([0, 1], [0, 1], [0, 1], c=\"gray\", lw=3)[0],\n\n           ax.plot([0, Rs[0, 0]], [0, Rs[1, 0]], [0, Rs[2, 0]], c=\"r\", lw=3,\n                   alpha=0.5)[0],\n           ax.plot([0, Rs[0, 1]], [0, Rs[1, 1]], [0, Rs[2, 1]], c=\"g\", lw=3,\n                   alpha=0.5)[0],\n           ax.plot([0, Rs[0, 2]], [0, Rs[1, 2]], [0, Rs[2, 2]], c=\"b\", lw=3,\n                   alpha=0.5)[0],\n\n           ax.plot([0, Re[0, 0]], [0, Re[1, 0]], [0, Re[2, 0]], c=\"orange\",\n                   lw=3, alpha=0.5)[0],\n           ax.plot([0, Re[0, 1]], [0, Re[1, 1]], [0, Re[2, 1]], c=\"turquoise\",\n                   lw=3, alpha=0.5)[0],\n           ax.plot([0, Re[0, 2]], [0, Re[1, 2]], [0, Re[2, 2]], c=\"violet\",\n                   lw=3, alpha=0.5)[0]]\n\n    ax = fig.add_subplot(122)\n    ax.set_xlim((0, 1))\n    ax.set_ylim((0, 1))\n    profile = ax.plot(0, 0)[0]\n\n    anim = animation.FuncAnimation(fig, update_lines, n_frames,\n                                   fargs=(start, end, n_frames, rot, profile),\n                                   interval=50, blit=False)\n\n    plt.show()"
      ]
    }
  ],
  "metadata": {
    "kernelspec": {
      "display_name": "Python 3",
      "language": "python",
      "name": "python3"
    },
    "language_info": {
      "codemirror_mode": {
        "name": "ipython",
        "version": 3
      },
      "file_extension": ".py",
      "mimetype": "text/x-python",
      "name": "python",
      "nbconvert_exporter": "python",
      "pygments_lexer": "ipython3",
      "version": "3.11.9"
    }
  },
  "nbformat": 4,
  "nbformat_minor": 0
}