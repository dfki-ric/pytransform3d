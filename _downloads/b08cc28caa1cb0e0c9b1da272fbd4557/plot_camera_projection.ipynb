{
  "cells": [
    {
      "cell_type": "markdown",
      "metadata": {},
      "source": [
        "\n# Camera Projection\n\nWe can see the camera coordinate frame and a grid of points in the camera\ncoordinate system which will be projected to the sensor. From the coordinates\non the sensor we can compute the corresponding pixels.\n"
      ]
    },
    {
      "cell_type": "code",
      "execution_count": null,
      "metadata": {
        "collapsed": false
      },
      "outputs": [],
      "source": [
        "import numpy as np\nimport matplotlib.pyplot as plt\nfrom pytransform3d.transformations import plot_transform\nfrom pytransform3d.camera import make_world_grid, cam2sensor, sensor2img"
      ]
    },
    {
      "cell_type": "markdown",
      "metadata": {},
      "source": [
        "## Camera Details\nWe have to define the focal length and sensor size of the camera in meters as\nwell as the image size in pixels. The sensor size is extraordinarily large so\nthat we can see it.\n\n"
      ]
    },
    {
      "cell_type": "code",
      "execution_count": null,
      "metadata": {
        "collapsed": false
      },
      "outputs": [],
      "source": [
        "focal_length = 0.2\nsensor_size = (0.2, 0.15)\nimage_size = (640, 480)"
      ]
    },
    {
      "cell_type": "markdown",
      "metadata": {},
      "source": [
        "## Grid\nWe define a grid in 3D world coordinates and compute its projection to the\nsensor in 3D.\n\n"
      ]
    },
    {
      "cell_type": "code",
      "execution_count": null,
      "metadata": {
        "collapsed": false
      },
      "outputs": [],
      "source": [
        "cam_grid = make_world_grid(n_points_per_line=11) - np.array([0, 0, -2, 0])\nimg_grid_3d = cam_grid * focal_length"
      ]
    },
    {
      "cell_type": "markdown",
      "metadata": {},
      "source": [
        "## Projection\nFirst, we project the grid from its original 3D coordinates to its projection\non the sensor, then we convert it to image coordinates.\n\n"
      ]
    },
    {
      "cell_type": "code",
      "execution_count": null,
      "metadata": {
        "collapsed": false
      },
      "outputs": [],
      "source": [
        "sensor_grid = cam2sensor(cam_grid, focal_length)\nimg_grid = sensor2img(sensor_grid, sensor_size, image_size)"
      ]
    },
    {
      "cell_type": "markdown",
      "metadata": {},
      "source": [
        "## Plotting\nNow we can plot the grid in 3D, projected to the 3D sensor, and projected to\nthe image.\n\n"
      ]
    },
    {
      "cell_type": "code",
      "execution_count": null,
      "metadata": {
        "collapsed": false
      },
      "outputs": [],
      "source": [
        "plt.figure(figsize=(12, 5))\nax = plt.subplot(121, projection=\"3d\")\nax.set_title(\"Grid in 3D camera coordinate system\")\nax.set_xlim((-1, 1))\nax.set_ylim((-1, 1))\nax.set_zlim((0, 2))\nax.set_xlabel(\"X\")\nax.set_ylabel(\"Y\")\nax.set_zlabel(\"Z\")\nc = np.arange(len(cam_grid))\nax.scatter(cam_grid[:, 0], cam_grid[:, 1], cam_grid[:, 2], c=c)\nax.scatter(img_grid_3d[:, 0], img_grid_3d[:, 1], img_grid_3d[:, 2], c=c)\nplot_transform(ax)\n\nax = plt.subplot(122, aspect=\"equal\")\nax.set_title(\"Grid in 2D image coordinate system\")\nax.scatter(img_grid[:, 0], img_grid[:, 1], c=c)\nax.set_xlim((0, image_size[0]))\nax.set_ylim((0, image_size[1]))\n\nplt.show()"
      ]
    }
  ],
  "metadata": {
    "kernelspec": {
      "display_name": "Python 3",
      "language": "python",
      "name": "python3"
    },
    "language_info": {
      "codemirror_mode": {
        "name": "ipython",
        "version": 3
      },
      "file_extension": ".py",
      "mimetype": "text/x-python",
      "name": "python",
      "nbconvert_exporter": "python",
      "pygments_lexer": "ipython3",
      "version": "3.11.9"
    }
  },
  "nbformat": 4,
  "nbformat_minor": 0
}