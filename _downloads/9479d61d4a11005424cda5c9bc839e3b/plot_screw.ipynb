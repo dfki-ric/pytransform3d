{
  "cells": [
    {
      "cell_type": "markdown",
      "metadata": {},
      "source": [
        "\n# Plot Transformation through Screw Motion\n\nA screw axis is represented by the parameters (q, s_axis, h). We can represent\nany transformation with a screw axis and an additional parameter theta that\nencodes the rotation angle and through h * theta the translation. Here we\nvisualize a screw axis and the transformation generated from a specific\ntheta.\n\nThe larger coordinate frame represents the origin of the transformation\nand the smaller frame represents the transformed frame. The red point\nindicates the position of q, which is a point on the screw axis. A straight\narrow shows the direction of the screw axis. The spiral path represents\na displacement of length theta along the screw axis.\n"
      ]
    },
    {
      "cell_type": "code",
      "execution_count": null,
      "metadata": {
        "collapsed": false
      },
      "outputs": [],
      "source": [
        "import numpy as np\nimport matplotlib.pyplot as plt\nfrom pytransform3d.rotations import active_matrix_from_extrinsic_roll_pitch_yaw\nfrom pytransform3d.transformations import (\n    plot_transform, plot_screw, screw_axis_from_screw_parameters,\n    transform_from_exponential_coordinates, concat, transform_from)\n\n\n# Screw parameters\nq = np.array([-0.2, -0.1, -0.5])\ns_axis = np.array([0, 0, 1])\nh = 0.05\ntheta = 5.5 * np.pi\n\nStheta = screw_axis_from_screw_parameters(q, s_axis, h) * theta\nA2B = transform_from_exponential_coordinates(Stheta)\n\norigin = transform_from(\n    active_matrix_from_extrinsic_roll_pitch_yaw([0.5, -0.3, 0.2]),\n    np.array([0.0, 0.1, 0.1]))\n\nax = plot_transform(A2B=origin, s=0.4)\nplot_transform(ax=ax, A2B=concat(A2B, origin), s=0.2)\nplot_screw(\n    ax=ax, q=q, s_axis=s_axis, h=h, theta=theta, A2B=origin, s=1.5, alpha=0.6)\nax.view_init(elev=40, azim=170)\nplt.subplots_adjust(0, 0, 1, 1)\nplt.show()"
      ]
    }
  ],
  "metadata": {
    "kernelspec": {
      "display_name": "Python 3",
      "language": "python",
      "name": "python3"
    },
    "language_info": {
      "codemirror_mode": {
        "name": "ipython",
        "version": 3
      },
      "file_extension": ".py",
      "mimetype": "text/x-python",
      "name": "python",
      "nbconvert_exporter": "python",
      "pygments_lexer": "ipython3",
      "version": "3.11.9"
    }
  },
  "nbformat": 4,
  "nbformat_minor": 0
}