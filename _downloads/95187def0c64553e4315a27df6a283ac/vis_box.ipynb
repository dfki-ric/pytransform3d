{
  "cells": [
    {
      "cell_type": "markdown",
      "metadata": {},
      "source": [
        "\n# Plot Box\n"
      ]
    },
    {
      "cell_type": "code",
      "execution_count": null,
      "metadata": {
        "collapsed": false
      },
      "outputs": [],
      "source": [
        "import numpy as np\nimport pytransform3d.visualizer as pv\nfrom pytransform3d.transformations import transform_from\nfrom pytransform3d.rotations import random_axis_angle, matrix_from_axis_angle\n\n\nrng = np.random.default_rng(42)\nfig = pv.figure()\nA2B = transform_from(\n    R=matrix_from_axis_angle(random_axis_angle(rng)),\n    p=np.zeros(3))\nfig.plot_box(size=[0.2, 0.5, 1], A2B=A2B)\nfig.plot_transform(A2B=A2B)\nfig.view_init()\nif \"__file__\" in globals():\n    fig.show()\nelse:\n    fig.save_image(\"__open3d_rendered_image.jpg\")"
      ]
    }
  ],
  "metadata": {
    "kernelspec": {
      "display_name": "Python 3",
      "language": "python",
      "name": "python3"
    },
    "language_info": {
      "codemirror_mode": {
        "name": "ipython",
        "version": 3
      },
      "file_extension": ".py",
      "mimetype": "text/x-python",
      "name": "python",
      "nbconvert_exporter": "python",
      "pygments_lexer": "ipython3",
      "version": "3.11.9"
    }
  },
  "nbformat": 4,
  "nbformat_minor": 0
}