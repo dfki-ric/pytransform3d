{
  "cells": [
    {
      "cell_type": "markdown",
      "metadata": {},
      "source": [
        "\n# Quaternion Integration\n\nIntegrate angular accelerations to a quaternion sequence and animate it.\n"
      ]
    },
    {
      "cell_type": "code",
      "execution_count": null,
      "metadata": {
        "collapsed": false
      },
      "outputs": [],
      "source": [
        "import numpy as np\nimport matplotlib.pyplot as plt\nfrom mpl_toolkits.mplot3d import axes3d\nimport matplotlib.animation as animation\nfrom pytransform3d import rotations as pr\n\n\ndef update_lines(step, Q, rot):\n    R = pr.matrix_from_quaternion(Q[step])\n\n    # Draw new frame\n    rot[0].set_data(np.array([0, R[0, 0]]), [0, R[1, 0]])\n    rot[0].set_3d_properties([0, R[2, 0]])\n\n    rot[1].set_data(np.array([0, R[0, 1]]), [0, R[1, 1]])\n    rot[1].set_3d_properties([0, R[2, 1]])\n\n    rot[2].set_data(np.array([0, R[0, 2]]), [0, R[1, 2]])\n    rot[2].set_3d_properties([0, R[2, 2]])\n\n    return rot\n\n\nif __name__ == \"__main__\":\n    rng = np.random.default_rng(3)\n    start = pr.random_quaternion(rng)\n    n_frames = 1000\n    dt = 0.01\n    angular_accelerations = np.empty((n_frames, 3))\n    for i in range(n_frames):\n        angular_accelerations[i] = pr.random_compact_axis_angle(rng)\n    # Integrate angular accelerations to velocities\n    angular_velocities = np.vstack(\n        (np.zeros((1, 3)), np.cumsum(angular_accelerations * dt, axis=0)))\n    # Integrate angular velocities to quaternions\n    Q = pr.quaternion_integrate(angular_velocities, q0=start, dt=dt)\n\n    fig = plt.figure(figsize=(4, 3))\n\n    ax = fig.add_subplot(111, projection=\"3d\")\n    ax.set_xlim((-1, 1))\n    ax.set_ylim((-1, 1))\n    ax.set_zlim((-1, 1))\n    ax.set_xlabel(\"X\")\n    ax.set_ylabel(\"Y\")\n    ax.set_zlabel(\"Z\")\n\n    R = pr.matrix_from_quaternion(start)\n\n    rot = [\n        ax.plot([0, 1], [0, 0], [0, 0], c=\"r\", lw=3)[0],\n        ax.plot([0, 0], [0, 1], [0, 0], c=\"g\", lw=3)[0],\n        ax.plot([0, 0], [0, 0], [0, 1], c=\"b\", lw=3)[0],\n\n        ax.plot([0, R[0, 0]], [0, R[1, 0]], [0, R[2, 0]],\n                c=\"r\", lw=3, alpha=0.3)[0],\n        ax.plot([0, R[0, 1]], [0, R[1, 1]], [0, R[2, 1]],\n                c=\"g\", lw=3, alpha=0.3)[0],\n        ax.plot([0, R[0, 2]], [0, R[1, 2]], [0, R[2, 2]],\n                c=\"b\", lw=3, alpha=0.3)[0]\n    ]\n\n    anim = animation.FuncAnimation(fig, update_lines, n_frames,\n                                   fargs=(Q, rot),\n                                   interval=10, blit=False)\n\n    plt.show()"
      ]
    }
  ],
  "metadata": {
    "kernelspec": {
      "display_name": "Python 3",
      "language": "python",
      "name": "python3"
    },
    "language_info": {
      "codemirror_mode": {
        "name": "ipython",
        "version": 3
      },
      "file_extension": ".py",
      "mimetype": "text/x-python",
      "name": "python",
      "nbconvert_exporter": "python",
      "pygments_lexer": "ipython3",
      "version": "3.11.9"
    }
  },
  "nbformat": 4,
  "nbformat_minor": 0
}