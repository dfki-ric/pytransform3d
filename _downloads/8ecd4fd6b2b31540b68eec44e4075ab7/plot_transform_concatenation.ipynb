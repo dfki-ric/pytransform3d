{
  "cells": [
    {
      "cell_type": "markdown",
      "metadata": {},
      "source": [
        "\n# Transform Concatenation\n\nIn this example, we have a point p that is defined in a frame C, we know\nthe transform C2B and B2A. We can construct a transform C2A to extract the\nposition of p in frame A.\n"
      ]
    },
    {
      "cell_type": "code",
      "execution_count": null,
      "metadata": {
        "collapsed": false
      },
      "outputs": [],
      "source": [
        "import numpy as np\nimport matplotlib.pyplot as plt\nimport pytransform3d.rotations as pyrot\nimport pytransform3d.transformations as pytr\n\n\np = np.array([0.0, 0.0, -0.5])\na = np.array([0.0, 0.0, 1.0, np.pi])\nB2A = pytr.transform_from(pyrot.matrix_from_axis_angle(a), p)\n\np = np.array([0.3, 0.4, 0.5])\na = np.array([0.0, 0.0, 1.0, -np.pi / 2.0])\nC2B = pytr.transform_from(pyrot.matrix_from_axis_angle(a), p)\n\nC2A = pytr.concat(C2B, B2A)\np = pytr.transform(C2A, np.ones(4))\n\nax = pytr.plot_transform(A2B=B2A)\npytr.plot_transform(ax, A2B=C2A)\nax.scatter(p[0], p[1], p[2])\nplt.show()"
      ]
    }
  ],
  "metadata": {
    "kernelspec": {
      "display_name": "Python 3",
      "language": "python",
      "name": "python3"
    },
    "language_info": {
      "codemirror_mode": {
        "name": "ipython",
        "version": 3
      },
      "file_extension": ".py",
      "mimetype": "text/x-python",
      "name": "python",
      "nbconvert_exporter": "python",
      "pygments_lexer": "ipython3",
      "version": "3.11.9"
    }
  },
  "nbformat": 4,
  "nbformat_minor": 0
}