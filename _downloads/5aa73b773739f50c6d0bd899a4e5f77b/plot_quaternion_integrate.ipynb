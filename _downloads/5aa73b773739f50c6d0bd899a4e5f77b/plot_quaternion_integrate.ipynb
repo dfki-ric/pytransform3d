{
  "cells": [
    {
      "cell_type": "markdown",
      "metadata": {},
      "source": [
        "\n# Quaternion Integration\n\nIntegrate angular velocities to a sequence of quaternions.\n"
      ]
    },
    {
      "cell_type": "code",
      "execution_count": null,
      "metadata": {
        "collapsed": false
      },
      "outputs": [],
      "source": [
        "import numpy as np\nimport matplotlib.pyplot as plt\nfrom pytransform3d.rotations import (\n    quaternion_integrate, matrix_from_quaternion, plot_basis)\n\n\nangular_velocities = np.empty((21, 3))\nangular_velocities[:, :] = np.array([np.sqrt(0.5), np.sqrt(0.5), 0.0])\nangular_velocities *= np.pi\n\nQ = quaternion_integrate(angular_velocities, dt=0.1)\nax = None\nfor t in range(len(Q)):\n    R = matrix_from_quaternion(Q[t])\n    p = 2 * (t / (len(Q) - 1) - 0.5) * np.ones(3)\n    ax = plot_basis(ax=ax, s=0.15, R=R, p=p)\nplt.show()"
      ]
    }
  ],
  "metadata": {
    "kernelspec": {
      "display_name": "Python 3",
      "language": "python",
      "name": "python3"
    },
    "language_info": {
      "codemirror_mode": {
        "name": "ipython",
        "version": 3
      },
      "file_extension": ".py",
      "mimetype": "text/x-python",
      "name": "python",
      "nbconvert_exporter": "python",
      "pygments_lexer": "ipython3",
      "version": "3.11.9"
    }
  },
  "nbformat": 4,
  "nbformat_minor": 0
}