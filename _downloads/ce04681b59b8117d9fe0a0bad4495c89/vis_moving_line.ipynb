{
  "cells": [
    {
      "cell_type": "markdown",
      "metadata": {},
      "source": [
        "\n# Animate Line\n\nAnimates a line.\n"
      ]
    },
    {
      "cell_type": "code",
      "execution_count": null,
      "metadata": {
        "collapsed": false
      },
      "outputs": [],
      "source": [
        "import numpy as np\nimport pytransform3d.visualizer as pv\n\n\ndef animation_callback(step, n_frames, line):\n    t = step / n_frames\n    P = np.empty((100, 3))\n    for d in range(P.shape[1]):\n        P[:, d] = np.linspace(0, 1 - t, len(P))\n    line.set_data(P)\n    return line\n\n\nfig = pv.figure()\nP = np.zeros((100, 3))\ncolors = np.empty((99, 3))\nfor d in range(colors.shape[1]):\n    P[:, d] = np.linspace(0, 1, len(P))\n    colors[:, d] = np.linspace(0, 1, len(colors))\nline = fig.plot(P, colors)\nframe = fig.plot_basis(R=np.eye(3), s=0.5)\nfig.view_init()\n\nn_frames = 100\nif \"__file__\" in globals():\n    fig.animate(\n        animation_callback, n_frames, fargs=(n_frames, line), loop=True)\n    fig.show()\nelse:\n    fig.save_image(\"__open3d_rendered_image.jpg\")"
      ]
    }
  ],
  "metadata": {
    "kernelspec": {
      "display_name": "Python 3",
      "language": "python",
      "name": "python3"
    },
    "language_info": {
      "codemirror_mode": {
        "name": "ipython",
        "version": 3
      },
      "file_extension": ".py",
      "mimetype": "text/x-python",
      "name": "python",
      "nbconvert_exporter": "python",
      "pygments_lexer": "ipython3",
      "version": "3.11.9"
    }
  },
  "nbformat": 4,
  "nbformat_minor": 0
}