{
  "cells": [
    {
      "cell_type": "markdown",
      "metadata": {},
      "source": [
        "\n# URDF with Meshes\n\nThis example shows how to load a URDF with STL meshes. This example must be\nrun from within the examples folder or the main folder because it uses a\nhard-coded path to the URDF file and the meshes.\n"
      ]
    },
    {
      "cell_type": "code",
      "execution_count": null,
      "metadata": {
        "collapsed": false
      },
      "outputs": [],
      "source": [
        "import os\nfrom pytransform3d.urdf import UrdfTransformManager\nimport pytransform3d.visualizer as pv\n\n\nBASE_DIR = \"test/test_data/\"\ndata_dir = BASE_DIR\nsearch_path = \".\"\nwhile (not os.path.exists(data_dir) and\n       os.path.dirname(search_path) != \"pytransform3d\"):\n    search_path = os.path.join(search_path, \"..\")\n    data_dir = os.path.join(search_path, BASE_DIR)\n\ntm = UrdfTransformManager()\nwith open(data_dir + \"simple_mechanism.urdf\", \"r\") as f:\n    tm.load_urdf(f.read(), mesh_path=data_dir)\ntm.set_joint(\"joint\", -1.1)\n\nfig = pv.figure(\"URDF with meshes\")\nfig.plot_graph(tm, \"lower_cone\", s=0.1, show_frames=True,\n               whitelist=[\"upper_cone\", \"lower_cone\"],\n               show_connections=True, show_visuals=True, show_name=False)\nfig.view_init()\nfig.set_zoom(1.2)\nif \"__file__\" in globals():\n    fig.show()\nelse:\n    fig.save_image(\"__open3d_rendered_image.jpg\")"
      ]
    }
  ],
  "metadata": {
    "kernelspec": {
      "display_name": "Python 3",
      "language": "python",
      "name": "python3"
    },
    "language_info": {
      "codemirror_mode": {
        "name": "ipython",
        "version": 3
      },
      "file_extension": ".py",
      "mimetype": "text/x-python",
      "name": "python",
      "nbconvert_exporter": "python",
      "pygments_lexer": "ipython3",
      "version": "3.11.9"
    }
  },
  "nbformat": 4,
  "nbformat_minor": 0
}