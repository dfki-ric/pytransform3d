{
  "cells": [
    {
      "cell_type": "markdown",
      "metadata": {},
      "source": [
        "\n# Visualize Plane\n\nVisualizes one plane in Hesse normal form and one plane defined by point and\nnormal.\n"
      ]
    },
    {
      "cell_type": "code",
      "execution_count": null,
      "metadata": {
        "collapsed": false
      },
      "outputs": [],
      "source": [
        "import numpy as np\nimport pytransform3d.rotations as pr\nimport pytransform3d.visualizer as pv\n\n\nfig = pv.figure()\nfig.plot_transform(np.eye(4))\nrng = np.random.default_rng(8853)\nfig.plot_plane(pr.norm_vector(rng.standard_normal(3)), rng.standard_normal(),\n               c=(1, 0.5, 0))\nfig.plot_plane(pr.norm_vector(rng.standard_normal(3)),\n               point_in_plane=rng.standard_normal(3), c=(0, 1, 1))\nif \"__file__\" in globals():\n    fig.show()\nelse:\n    fig.save_image(\"__open3d_rendered_image.jpg\")"
      ]
    }
  ],
  "metadata": {
    "kernelspec": {
      "display_name": "Python 3",
      "language": "python",
      "name": "python3"
    },
    "language_info": {
      "codemirror_mode": {
        "name": "ipython",
        "version": 3
      },
      "file_extension": ".py",
      "mimetype": "text/x-python",
      "name": "python",
      "nbconvert_exporter": "python",
      "pygments_lexer": "ipython3",
      "version": "3.11.9"
    }
  },
  "nbformat": 4,
  "nbformat_minor": 0
}