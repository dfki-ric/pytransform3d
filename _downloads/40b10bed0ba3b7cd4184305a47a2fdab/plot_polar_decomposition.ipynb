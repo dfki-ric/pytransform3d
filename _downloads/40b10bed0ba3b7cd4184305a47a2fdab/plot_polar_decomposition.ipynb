{
  "cells": [
    {
      "cell_type": "markdown",
      "metadata": {},
      "source": [
        "\n# Plot Polar Decomposition\n\nRobust polar decomposition orthonormalizes basis vectors (i.e., rotation\nmatrices). It is more expensive than standard Gram-Schmidt orthonormalization,\nbut it spreads the error more evenly over all basis vectors. The top row of\nthese plots shows the unnormalized bases that were obtained by randomly\nrotating one of the columns of the identity matrix. The middle row shows\nGram-Schmidt orthonormalization and the bottom row shows orthonormalization\nthrough robust polar decomposition. For comparison, we show the unnormalized\nbasis with dashed lines in the last two rows.\n"
      ]
    },
    {
      "cell_type": "code",
      "execution_count": null,
      "metadata": {
        "collapsed": false
      },
      "outputs": [],
      "source": [
        "import numpy as np\nimport matplotlib.pyplot as plt\nfrom pytransform3d import rotations as pr\n\n\nn_cases = 4\nplt.figure(figsize=(8, 8))\naxes = [plt.subplot(3, n_cases, 1 + i, projection=\"3d\")\n        for i in range(3 * n_cases)]\nax_s = 1.0\nplot_center = np.array([-0.2, -0.2, -0.2])\nfor ax in axes:\n    ax.set_xticks(())\n    ax.set_yticks(())\n    ax.set_zticks(())\n    ax.set_xlim((-ax_s, ax_s))\n    ax.set_ylim((-ax_s, ax_s))\n    ax.set_zlim((-ax_s, ax_s))\naxes[0].set_title(\"Unnormalized Bases\")\naxes[n_cases].set_title(\"Gram-Schmidt\")\naxes[2 * n_cases].set_title(\"Polar Decomposition\")\n\nrng = np.random.default_rng(46)\nfor i in range(n_cases):\n    random_axis = rng.integers(0, 3)\n    R_unnormalized = np.eye(3)\n    R_unnormalized[:, random_axis] = np.dot(\n        pr.random_matrix(rng, cov=0.1 * np.eye(3)),\n        R_unnormalized[:, random_axis])\n    pr.plot_basis(axes[i], R_unnormalized, p=plot_center, strict_check=False)\n\n    R_gs = pr.norm_matrix(R_unnormalized)\n    pr.plot_basis(axes[i + n_cases], R_unnormalized, p=plot_center,\n                  strict_check=False, ls=\"--\")\n    pr.plot_basis(axes[i + n_cases], R_gs, p=plot_center)\n\n    R_pd = pr.robust_polar_decomposition(R_unnormalized)\n    pr.plot_basis(axes[i + 2 * n_cases], R_unnormalized, p=plot_center,\n                  strict_check=False, ls=\"--\")\n    pr.plot_basis(axes[i + 2 * n_cases], R_pd, p=plot_center)\n\nplt.tight_layout()\nplt.show()"
      ]
    }
  ],
  "metadata": {
    "kernelspec": {
      "display_name": "Python 3",
      "language": "python",
      "name": "python3"
    },
    "language_info": {
      "codemirror_mode": {
        "name": "ipython",
        "version": 3
      },
      "file_extension": ".py",
      "mimetype": "text/x-python",
      "name": "python",
      "nbconvert_exporter": "python",
      "pygments_lexer": "ipython3",
      "version": "3.11.9"
    }
  },
  "nbformat": 4,
  "nbformat_minor": 0
}