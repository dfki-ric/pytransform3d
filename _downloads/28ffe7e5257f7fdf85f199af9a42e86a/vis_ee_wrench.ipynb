{
  "cells": [
    {
      "cell_type": "markdown",
      "metadata": {},
      "source": [
        "\n# Visualize Wrench\n\nWe see a 6-DOF robot arm, and we assume that we have a force/torque sensor\nthat measures the force of a spherical mass (gray sphere) at the tool center\npoint (TCP). We can draw the screw representation of the wrench in the TCP\nframe as a force along a screw axis from the red sphere to the green sphere.\nThen we use the adjoint representation of the transformation from the base\nto the TCP to transform the wrench to the robot's base frame. This wrench\nhas a force component and a torque component, which we can also visualize\nas a screw: the red sphere indicates the point q on the screw axis, the\nstraight black line shows the screw axis, the red line indicates the\ndirection to the initial configuration and the green line indicates the\ndirection to the displaced configuration in which the instantaneous\nwrench would move the base.\n"
      ]
    },
    {
      "cell_type": "code",
      "execution_count": null,
      "metadata": {
        "collapsed": false
      },
      "outputs": [],
      "source": [
        "import os\nimport numpy as np\nfrom pytransform3d.urdf import UrdfTransformManager\nimport pytransform3d.transformations as pt\nimport pytransform3d.visualizer as pv\n\n\ndef plot_screw(figure, q=np.zeros(3), s_axis=np.array([1.0, 0.0, 0.0]),\n               h=1.0, theta=1.0, A2B=None, s=1.0):\n    \"\"\"Plot transformation about and along screw axis.\n\n    Parameters\n    ----------\n    figure : Figure\n        Interface to Open3D's visualizer\n\n    q : array-like, shape (3,), optional (default: [0, 0, 0])\n        Vector to a point on the screw axis\n\n    s_axis : array-like, shape (3,), optional (default: [1, 0, 0])\n        Direction vector of the screw axis\n\n    h : float, optional (default: 1)\n        Pitch of the screw. The pitch is the ratio of translation and rotation\n        of the screw axis. Infinite pitch indicates pure translation.\n\n    theta : float, optional (default: 1)\n        Rotation angle. h * theta is the translation.\n\n    A2B : array-like, shape (4, 4), optional (default: I)\n        Origin of the screw\n\n    s : float, optional (default: 1)\n        Scaling of the axis and angle that will be drawn\n    \"\"\"\n    from pytransform3d.rotations import (\n        vector_projection, angle_between_vectors, perpendicular_to_vectors,\n        slerp_weights)\n    from pytransform3d.transformations import (\n        check_screw_parameters, transform, translate_transform,\n        vector_to_point, vector_to_direction, vectors_to_points)\n\n    if A2B is None:\n        A2B = np.eye(4)\n\n    q, s_axis, h = check_screw_parameters(q, s_axis, h)\n\n    origin_projected_on_screw_axis = q + vector_projection(-q, s_axis)\n\n    pure_translation = np.isinf(h)\n\n    if not pure_translation:\n        screw_axis_to_old_frame = -origin_projected_on_screw_axis\n        screw_axis_to_rotated_frame = perpendicular_to_vectors(\n            s_axis, screw_axis_to_old_frame)\n        screw_axis_to_translated_frame = h * s_axis\n\n        arc = np.empty((100, 3))\n        angle = angle_between_vectors(screw_axis_to_old_frame,\n                                      screw_axis_to_rotated_frame)\n        for i, t in enumerate(zip(np.linspace(0, 2 * theta / np.pi, len(arc)),\n                                  np.linspace(0.0, 1.0, len(arc)))):\n            t1, t2 = t\n            w1, w2 = slerp_weights(angle, t1)\n            arc[i] = (origin_projected_on_screw_axis\n                      + w1 * screw_axis_to_old_frame\n                      + w2 * screw_axis_to_rotated_frame\n                      + screw_axis_to_translated_frame * t2 * theta)\n\n    q = transform(A2B, vector_to_point(q))[:3]\n    s_axis = transform(A2B, vector_to_direction(s_axis))[:3]\n    if not pure_translation:\n        arc = transform(A2B, vectors_to_points(arc))[:, :3]\n        origin_projected_on_screw_axis = transform(\n            A2B, vector_to_point(origin_projected_on_screw_axis))[:3]\n\n    # Screw axis\n    Q = translate_transform(np.eye(4), q)\n    fig.plot_sphere(radius=s * 0.02, A2B=Q, c=[1, 0, 0])\n    if pure_translation:\n        s_axis *= theta\n        Q_plus_S_axis = translate_transform(np.eye(4), q + s_axis)\n        fig.plot_sphere(radius=s * 0.02, A2B=Q_plus_S_axis, c=[0, 1, 0])\n    P = np.array([\n        [q[0] - s * s_axis[0], q[1] - s * s_axis[1], q[2] - s * s_axis[2]],\n        [q[0] + (1 + s) * s_axis[0],\n         q[1] + (1 + s) * s_axis[1], q[2] + (1 + s) * s_axis[2]]\n    ])\n    figure.plot(P=P, c=[0, 0, 0])\n\n    if not pure_translation:\n        # Transformation\n        figure.plot(arc, c=[0, 0, 0])\n\n        for i, c in zip([0, -1], [[1, 0, 0], [0, 1, 0]]):\n            arc_bound = np.vstack((origin_projected_on_screw_axis, arc[i]))\n            figure.plot(arc_bound, c=c)\n\n\nBASE_DIR = \"test/test_data/\"\ndata_dir = BASE_DIR\nsearch_path = \".\"\nwhile (not os.path.exists(data_dir) and\n       os.path.dirname(search_path) != \"pytransform3d\"):\n    search_path = os.path.join(search_path, \"..\")\n    data_dir = os.path.join(search_path, BASE_DIR)\n\ntm = UrdfTransformManager()\nfilename = os.path.join(data_dir, \"robot_with_visuals.urdf\")\nwith open(filename, \"r\") as f:\n    robot_urdf = f.read()\n    tm.load_urdf(robot_urdf, mesh_path=data_dir)\ntm.set_joint(\"joint2\", 0.2 * np.pi)\ntm.set_joint(\"joint3\", 0.2 * np.pi)\ntm.set_joint(\"joint5\", 0.1 * np.pi)\ntm.set_joint(\"joint6\", 0.5 * np.pi)\n\nee2base = tm.get_transform(\"tcp\", \"robot_arm\")\nbase2ee = tm.get_transform(\"robot_arm\", \"tcp\")\n\nmass = 1.0\nwrench_in_ee = np.array([0.0, 0.0, 0.0, 0.0, -9.81, 0.0]) * mass\nwrench_in_base = np.dot(pt.adjoint_from_transform(base2ee).T, wrench_in_ee)\n\nfig = pv.figure()\n\nfig.plot_graph(tm, \"robot_arm\", s=0.1, show_visuals=True)\n\nfig.plot_transform(s=0.4)\nfig.plot_transform(A2B=ee2base, s=0.1)\n\nmass2base = np.copy(ee2base)\nmass2base[2, 3] += 0.075\nfig.plot_sphere(radius=0.025, A2B=mass2base)\n\nS, theta = pt.screw_axis_from_exponential_coordinates(wrench_in_base)\nq, s, h = pt.screw_parameters_from_screw_axis(S)\nplot_screw(fig, q, s, h, theta * 0.05)\n\nS, theta = pt.screw_axis_from_exponential_coordinates(wrench_in_ee)\nq, s, h = pt.screw_parameters_from_screw_axis(S)\nplot_screw(fig, q, s, h, theta * 0.05, A2B=ee2base)\n\nfig.view_init()\nif \"__file__\" in globals():\n    fig.show()\nelse:\n    fig.save_image(\"__open3d_rendered_image.jpg\")"
      ]
    }
  ],
  "metadata": {
    "kernelspec": {
      "display_name": "Python 3",
      "language": "python",
      "name": "python3"
    },
    "language_info": {
      "codemirror_mode": {
        "name": "ipython",
        "version": 3
      },
      "file_extension": ".py",
      "mimetype": "text/x-python",
      "name": "python",
      "nbconvert_exporter": "python",
      "pygments_lexer": "ipython3",
      "version": "3.11.9"
    }
  },
  "nbformat": 4,
  "nbformat_minor": 0
}