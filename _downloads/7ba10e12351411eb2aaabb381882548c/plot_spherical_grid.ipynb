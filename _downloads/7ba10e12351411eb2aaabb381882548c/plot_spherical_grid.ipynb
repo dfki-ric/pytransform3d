{
  "cells": [
    {
      "cell_type": "markdown",
      "metadata": {},
      "source": [
        "\n# Spherical Grid\n\nPlot a grid in spherical coordinates with rho = 1 as Cartesian points.\nWe can see that the Cartesian distances between points are not regular and\nthere are many points that were converted to the same Cartesian point at the\npoles of the sphere.\n"
      ]
    },
    {
      "cell_type": "code",
      "execution_count": null,
      "metadata": {
        "collapsed": false
      },
      "outputs": [],
      "source": [
        "import numpy as np\nimport matplotlib.pyplot as plt\nimport pytransform3d.coordinates as pc\nfrom pytransform3d.plot_utils import make_3d_axis\n\n\nthetas, phis = np.meshgrid(np.linspace(0, np.pi, 11),\n                           np.linspace(-np.pi, np.pi, 21))\nrhos = np.ones_like(thetas)\nspherical_grid = np.column_stack((\n    rhos.reshape(-1), thetas.reshape(-1), phis.reshape(-1)))\ncartesian_grid = pc.cartesian_from_spherical(spherical_grid)\n\nax = make_3d_axis(ax_s=1, unit=\"m\", n_ticks=6)\nax.scatter(cartesian_grid[:, 0], cartesian_grid[:, 1], cartesian_grid[:, 2])\nax.plot(cartesian_grid[:, 0], cartesian_grid[:, 1], cartesian_grid[:, 2])\nplt.show()"
      ]
    }
  ],
  "metadata": {
    "kernelspec": {
      "display_name": "Python 3",
      "language": "python",
      "name": "python3"
    },
    "language_info": {
      "codemirror_mode": {
        "name": "ipython",
        "version": 3
      },
      "file_extension": ".py",
      "mimetype": "text/x-python",
      "name": "python",
      "nbconvert_exporter": "python",
      "pygments_lexer": "ipython3",
      "version": "3.11.9"
    }
  },
  "nbformat": 4,
  "nbformat_minor": 0
}