{
  "cells": [
    {
      "cell_type": "markdown",
      "metadata": {},
      "source": [
        "\n# Axis-Angle Representation from Two Direction Vectors\n\nThis example shows how we can compute the axis-angle representation of a\nrotation that transforms a direction given by a vector 'a' to a direction\ngiven by a vector 'b'. We show both vectors, the rotation about the rotation\naxis and the initial and resulting coordinate frame, where the vector 'b'\nand its corresponding frame after the rotation are represented by shorter\nlines.\n"
      ]
    },
    {
      "cell_type": "code",
      "execution_count": null,
      "metadata": {
        "collapsed": false
      },
      "outputs": [],
      "source": [
        "import numpy as np\nimport matplotlib.pyplot as plt\nfrom pytransform3d.rotations import (\n    axis_angle_from_two_directions, matrix_from_axis_angle, plot_axis_angle,\n    plot_basis)\nfrom pytransform3d.plot_utils import make_3d_axis, plot_vector\n\n\na = np.array([1.0, 0.0, 0.0])\nb = np.array([0.76958075, -0.49039301, -0.40897453])\naa = axis_angle_from_two_directions(a, b)\n\nax = make_3d_axis(ax_s=1)\nplot_vector(ax, start=np.zeros(3), direction=a, s=1.0)\nplot_vector(ax, start=np.zeros(3), direction=b, s=0.5)\nplot_axis_angle(ax, aa)\nplot_basis(ax)\nplot_basis(ax, R=matrix_from_axis_angle(aa), s=0.5)\nplt.show()"
      ]
    }
  ],
  "metadata": {
    "kernelspec": {
      "display_name": "Python 3",
      "language": "python",
      "name": "python3"
    },
    "language_info": {
      "codemirror_mode": {
        "name": "ipython",
        "version": 3
      },
      "file_extension": ".py",
      "mimetype": "text/x-python",
      "name": "python",
      "nbconvert_exporter": "python",
      "pygments_lexer": "ipython3",
      "version": "3.11.9"
    }
  },
  "nbformat": 4,
  "nbformat_minor": 0
}