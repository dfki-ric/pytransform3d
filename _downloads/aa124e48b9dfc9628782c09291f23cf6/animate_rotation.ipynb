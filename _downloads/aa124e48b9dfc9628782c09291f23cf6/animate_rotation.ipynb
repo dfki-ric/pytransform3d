{
  "cells": [
    {
      "cell_type": "markdown",
      "metadata": {},
      "source": [
        "\n# Animate Rotation\n\nSimple animations of frames and trajectories are easy to implement with\nMatplotlib's FuncAnimation. The following example will generate a frame\nthat will be rotated about the x-axis.\n"
      ]
    },
    {
      "cell_type": "code",
      "execution_count": null,
      "metadata": {
        "collapsed": false
      },
      "outputs": [],
      "source": [
        "import numpy as np\nimport matplotlib.pyplot as plt\nfrom mpl_toolkits.mplot3d import axes3d\nimport matplotlib.animation as animation\nfrom pytransform3d.plot_utils import Frame\nfrom pytransform3d import rotations as pr\n\n\ndef update_frame(step, n_frames, frame):\n    angle = 2.0 * np.pi * (step + 1) / n_frames\n    R = pr.passive_matrix_from_angle(0, angle)\n    A2B = np.eye(4)\n    A2B[:3, :3] = R\n    frame.set_data(A2B)\n    return frame\n\n\nif __name__ == \"__main__\":\n    n_frames = 50\n\n    fig = plt.figure(figsize=(5, 5))\n\n    ax = fig.add_subplot(111, projection=\"3d\")\n    ax.set_xlim((-1, 1))\n    ax.set_ylim((-1, 1))\n    ax.set_zlim((-1, 1))\n    ax.set_xlabel(\"X\")\n    ax.set_ylabel(\"Y\")\n    ax.set_zlabel(\"Z\")\n\n    frame = Frame(np.eye(4), label=\"rotating frame\", s=0.5)\n    frame.add_frame(ax)\n\n    anim = animation.FuncAnimation(\n        fig, update_frame, n_frames, fargs=(n_frames, frame), interval=50,\n        blit=False)\n\n    plt.show()"
      ]
    }
  ],
  "metadata": {
    "kernelspec": {
      "display_name": "Python 3",
      "language": "python",
      "name": "python3"
    },
    "language_info": {
      "codemirror_mode": {
        "name": "ipython",
        "version": 3
      },
      "file_extension": ".py",
      "mimetype": "text/x-python",
      "name": "python",
      "nbconvert_exporter": "python",
      "pygments_lexer": "ipython3",
      "version": "3.11.9"
    }
  },
  "nbformat": 4,
  "nbformat_minor": 0
}