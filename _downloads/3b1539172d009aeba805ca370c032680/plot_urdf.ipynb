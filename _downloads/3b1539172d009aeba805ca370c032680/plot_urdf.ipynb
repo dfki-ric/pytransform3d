{
  "cells": [
    {
      "cell_type": "markdown",
      "metadata": {},
      "source": [
        "\n# URDF Joints\n\nThis example shows how to load a URDF description of a robot, set some joint\nangles and display relevant frames.\n"
      ]
    },
    {
      "cell_type": "code",
      "execution_count": null,
      "metadata": {
        "collapsed": false
      },
      "outputs": [],
      "source": [
        "import matplotlib.pyplot as plt\nfrom pytransform3d.urdf import UrdfTransformManager"
      ]
    },
    {
      "cell_type": "markdown",
      "metadata": {},
      "source": [
        "## URDF\nURDFs have to be provided as strings. These can be loaded from files.\n\n"
      ]
    },
    {
      "cell_type": "code",
      "execution_count": null,
      "metadata": {
        "collapsed": false
      },
      "outputs": [],
      "source": [
        "COMPI_URDF = \"\"\"\n<?xml version=\"1.0\"?>\n  <robot name=\"compi\">\n    <link name=\"linkmount\"/>\n    <link name=\"link1\"/>\n    <link name=\"link2\"/>\n    <link name=\"link3\"/>\n    <link name=\"link4\"/>\n    <link name=\"link5\"/>\n    <link name=\"link6\"/>\n    <link name=\"tcp\"/>\n\n    <joint name=\"joint1\" type=\"revolute\">\n      <origin xyz=\"0 0 0\" rpy=\"0 0 0\"/>\n      <parent link=\"linkmount\"/>\n      <child link=\"link1\"/>\n      <axis xyz=\"0 0 1.0\"/>\n    </joint>\n\n    <joint name=\"joint2\" type=\"revolute\">\n      <origin xyz=\"0 0 0.158\" rpy=\"1.570796 0 0\"/>\n      <parent link=\"link1\"/>\n      <child link=\"link2\"/>\n      <axis xyz=\"0 0 -1.0\"/>\n    </joint>\n\n    <joint name=\"joint3\" type=\"revolute\">\n      <origin xyz=\"0 0.28 0\" rpy=\"0 0 0\"/>\n      <parent link=\"link2\"/>\n      <child link=\"link3\"/>\n      <axis xyz=\"0 0 -1.0\"/>\n    </joint>\n\n    <joint name=\"joint4\" type=\"revolute\">\n      <origin xyz=\"0 0 0\" rpy=\"-1.570796 0 0\"/>\n      <parent link=\"link3\"/>\n      <child link=\"link4\"/>\n      <axis xyz=\"0 0 1.0\"/>\n    </joint>\n\n    <joint name=\"joint5\" type=\"revolute\">\n      <origin xyz=\"0 0 0.34\" rpy=\"1.570796 0 0\"/>\n      <parent link=\"link4\"/>\n      <child link=\"link5\"/>\n      <axis xyz=\"0 0 -1.0\"/>\n    </joint>\n\n    <joint name=\"joint6\" type=\"revolute\">\n      <origin xyz=\"0 0.346 0\" rpy=\"-1.570796 0 0\"/>\n      <parent link=\"link5\"/>\n      <child link=\"link6\"/>\n      <axis xyz=\"0 0 1.0\"/>\n    </joint>\n\n    <joint name=\"jointtcp\" type=\"fixed\">\n      <origin xyz=\"0 0 0.05\" rpy=\"0 0 0\"/>\n      <parent link=\"link6\"/>\n      <child link=\"tcp\"/>\n    </joint>\n  </robot>\n\"\"\"\n\ntm = UrdfTransformManager()\ntm.load_urdf(COMPI_URDF)"
      ]
    },
    {
      "cell_type": "markdown",
      "metadata": {},
      "source": [
        "## Set Joints\nIn this example, we define joint angles manually. Joints are identified by\ntheir string names extracted from the URDF.\n\n"
      ]
    },
    {
      "cell_type": "code",
      "execution_count": null,
      "metadata": {
        "collapsed": false
      },
      "outputs": [],
      "source": [
        "joint_names = [\"joint%d\" % i for i in range(1, 7)]\njoint_angles = [0, 0.5, 0.5, 0, 0.5, 0]\nfor name, angle in zip(joint_names, joint_angles):\n    tm.set_joint(name, angle)"
      ]
    },
    {
      "cell_type": "markdown",
      "metadata": {},
      "source": [
        "## Visualization\nWe use matplotlib to visualize the link frames of the URDF and connections\nbetween these.\n\n"
      ]
    },
    {
      "cell_type": "code",
      "execution_count": null,
      "metadata": {
        "collapsed": false
      },
      "outputs": [],
      "source": [
        "ax = tm.plot_frames_in(\"compi\", whitelist=[\"link%d\" % d for d in range(1, 7)],\n                       s=0.05, show_name=True)\nax = tm.plot_connections_in(\"compi\", ax=ax)\nax.set_xlim((-0.2, 0.8))\nax.set_ylim((-0.5, 0.5))\nax.set_zlim((-0.2, 0.8))\nplt.show()"
      ]
    }
  ],
  "metadata": {
    "kernelspec": {
      "display_name": "Python 3",
      "language": "python",
      "name": "python3"
    },
    "language_info": {
      "codemirror_mode": {
        "name": "ipython",
        "version": 3
      },
      "file_extension": ".py",
      "mimetype": "text/x-python",
      "name": "python",
      "nbconvert_exporter": "python",
      "pygments_lexer": "ipython3",
      "version": "3.11.9"
    }
  },
  "nbformat": 4,
  "nbformat_minor": 0
}