{
  "cells": [
    {
      "cell_type": "markdown",
      "metadata": {},
      "source": [
        "\n# Invert Uncertain Transform\n\nWe sample from the original transform distribution and from the inverse\ndistribution. Samples are then projected to all 2D planes and plotted.\nThe color indicates the pose distribution. Green is the original\ndistribution and red is the inverse.\n"
      ]
    },
    {
      "cell_type": "code",
      "execution_count": null,
      "metadata": {
        "collapsed": false
      },
      "outputs": [],
      "source": [
        "import numpy as np\nimport matplotlib.pyplot as plt\nimport pytransform3d.uncertainty as pu\nimport pytransform3d.rotations as pr\nimport pytransform3d.transformations as pt\nimport pytransform3d.trajectories as ptr\n\n\nn_mc_samples = 1000\nrng = np.random.default_rng(1)\nalpha = 2.0\n\nA2B = pt.transform_from(\n    R=pr.matrix_from_euler([1.5, 0.5, 1.3], 0, 1, 2, True),\n    p=[10.0, -7.0, -5.0]\n)\nvariances = alpha * np.array([0.1, 0.2, 0.1, 2.0, 1.0, 1.0])\nstd_devs = np.sqrt(variances)\ncorrelations = np.array([\n    [0.5, 0, 0, 0, 0, 0],\n    [0.1, 0.5, 0, 0, 0, 0],\n    [-0.3, 0.1, 0.5, 0, 0, 0],\n    [-0.1, 0.2, 0.3, 0.5, 0, 0],\n    [-0.3, -0.1, -0.2, 0.3, 0.5, 0],\n    [-0.1, 0.1, 0.2, 0.1, 0.3, 0.5]\n])\ncorrelations += correlations.T\ncov_A2B = correlations * np.outer(std_devs, std_devs)\nx_A2B = pt.exponential_coordinates_from_transform(A2B)\nsamples_A2B = ptr.exponential_coordinates_from_transforms(\n    [pt.random_transform(rng, A2B, cov_A2B) for _ in range(n_mc_samples)])\n\nB2A, cov_B2A = pu.invert_uncertain_transform(A2B, cov_A2B)\nx_B2A = pt.exponential_coordinates_from_transform(B2A)\nsamples_B2A = ptr.exponential_coordinates_from_transforms(\n    [pt.random_transform(rng, B2A, cov_B2A) for _ in range(n_mc_samples)])\n\n_, axes = plt.subplots(nrows=6, ncols=6, squeeze=True, figsize=(10, 10))\nfor i in range(6):\n    for j in range(6):\n        if i == j:\n            continue\n\n        indices = np.array([i, j])\n        ax = axes[i][j]\n\n        ax.scatter(\n            samples_A2B[:, i], samples_A2B[:, j], color=\"g\", s=1, alpha=0.3)\n        ax.scatter(\n            samples_B2A[:, i], samples_B2A[:, j], color=\"r\", s=1, alpha=0.3)\n\n        ax.scatter(0, 0, color=\"k\")\n\nplt.show()"
      ]
    }
  ],
  "metadata": {
    "kernelspec": {
      "display_name": "Python 3",
      "language": "python",
      "name": "python3"
    },
    "language_info": {
      "codemirror_mode": {
        "name": "ipython",
        "version": 3
      },
      "file_extension": ".py",
      "mimetype": "text/x-python",
      "name": "python",
      "nbconvert_exporter": "python",
      "pygments_lexer": "ipython3",
      "version": "3.11.9"
    }
  },
  "nbformat": 4,
  "nbformat_minor": 0
}