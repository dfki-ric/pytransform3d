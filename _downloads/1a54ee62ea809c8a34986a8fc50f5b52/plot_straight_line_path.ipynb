{
  "cells": [
    {
      "cell_type": "markdown",
      "metadata": {},
      "source": [
        "\n# Plot Straight Line Paths\n\nWe will compose a trajectory of multiple straight line paths in exponential\ncoordinates. This is a demonstration of batch conversion from exponential\ncoordinates to transformation matrices.\n"
      ]
    },
    {
      "cell_type": "code",
      "execution_count": null,
      "metadata": {
        "collapsed": false
      },
      "outputs": [],
      "source": [
        "import numpy as np\nimport matplotlib.pyplot as plt\nfrom pytransform3d.plot_utils import Trajectory, make_3d_axis, remove_frame\nfrom pytransform3d.trajectories import transforms_from_exponential_coordinates\nfrom pytransform3d.transformations import (\n    exponential_coordinates_from_transform, transform_from)\nfrom pytransform3d.rotations import active_matrix_from_angle\n\n\ndef time_scaling(t, t_max):\n    \"\"\"Linear time scaling.\"\"\"\n    return np.asarray(t) / t_max\n\n\ndef straight_line_path(start, goal, s):\n    \"\"\"Compute straight line path in exponential coordinates.\"\"\"\n    start = np.asarray(start)\n    goal = np.asarray(goal)\n    return (start[np.newaxis] * (1.0 - s)[:, np.newaxis]\n            + goal[np.newaxis] * s[:, np.newaxis])\n\n\ns = time_scaling(np.linspace(0.0, 5.0, 50001), 5.0)\nstart = transform_from(\n    R=active_matrix_from_angle(1, -0.4 * np.pi),\n    p=np.array([-1, -2.5, 0])\n)\ngoal1 = transform_from(\n    R=active_matrix_from_angle(1, -0.1 * np.pi),\n    p=np.array([-1, 1, 0])\n)\ngoal2 = transform_from(\n    R=active_matrix_from_angle(2, -np.pi),\n    p=np.array([-0.65, -0.75, 0])\n)\npath1 = straight_line_path(\n    exponential_coordinates_from_transform(start),\n    exponential_coordinates_from_transform(goal1),\n    s\n)\npath2 = straight_line_path(\n    exponential_coordinates_from_transform(goal1),\n    exponential_coordinates_from_transform(goal2),\n    s\n)\nH = transforms_from_exponential_coordinates(np.vstack((path1, path2)))\nax = make_3d_axis(1.0)\ntrajectory = Trajectory(H, n_frames=1000, show_direction=False, s=0.3)\ntrajectory.add_trajectory(ax)\nax.view_init(azim=-95, elev=70)\nax.set_xlim((-2.2, 1.3))\nax.set_ylim((-2.5, 1))\nremove_frame(ax)\nplt.show()"
      ]
    }
  ],
  "metadata": {
    "kernelspec": {
      "display_name": "Python 3",
      "language": "python",
      "name": "python3"
    },
    "language_info": {
      "codemirror_mode": {
        "name": "ipython",
        "version": 3
      },
      "file_extension": ".py",
      "mimetype": "text/x-python",
      "name": "python",
      "nbconvert_exporter": "python",
      "pygments_lexer": "ipython3",
      "version": "3.11.9"
    }
  },
  "nbformat": 4,
  "nbformat_minor": 0
}