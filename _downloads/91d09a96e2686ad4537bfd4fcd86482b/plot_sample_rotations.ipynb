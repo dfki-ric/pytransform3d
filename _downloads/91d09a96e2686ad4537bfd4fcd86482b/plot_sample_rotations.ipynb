{
  "cells": [
    {
      "cell_type": "markdown",
      "metadata": {},
      "source": [
        "\n# Compare Rotation Sampling Methods\n\nThere are different ways of sampling rotations. We draw random samples of\nrotations, convert them to rotation matrices, and apply these to the basis\nvector (1, 0, 0) to obtain points on the unit sphere.\n"
      ]
    },
    {
      "cell_type": "code",
      "execution_count": null,
      "metadata": {
        "collapsed": false
      },
      "outputs": [],
      "source": [
        "import numpy as np\nimport matplotlib.pyplot as plt\nimport pytransform3d.rotations as pr\nimport pytransform3d.batch_rotations as pbr\nimport pytransform3d.plot_utils as ppu\n\n\nrng = np.random.default_rng(1223532)\nn_samples = 2000\nv = np.array([1.0, 0.0, 0.0])\n\nplt.figure(figsize=(9, 5))\n\nax1 = plt.subplot(121, projection=\"3d\")\nax1.set_title(\"Sampled rotation vectors (axis-angle)\")\nppu.plot_sphere(ax1, radius=1, n_steps=100)\nrotations = np.vstack([pr.random_compact_axis_angle(rng)\n                       for _ in range(n_samples)])\nR = pbr.matrices_from_compact_axis_angles(rotations)\nv_R = np.einsum(\"nij,j->ni\", R, v)\nax1.scatter(v_R[:, 0], v_R[:, 1], v_R[:, 2])\n\nax2 = plt.subplot(122, projection=\"3d\")\nax2.set_title(\"Sampled quaternions\")\nppu.plot_sphere(ax2, radius=1, n_steps=100)\nrotations = np.vstack([pr.random_quaternion(rng) for _ in range(n_samples)])\nR = pbr.matrices_from_quaternions(rotations)\nv_R = np.einsum(\"nij,j->ni\", R, v)\nax2.scatter(v_R[:, 0], v_R[:, 1], v_R[:, 2])\n\nplt.tight_layout()\nplt.show()"
      ]
    }
  ],
  "metadata": {
    "kernelspec": {
      "display_name": "Python 3",
      "language": "python",
      "name": "python3"
    },
    "language_info": {
      "codemirror_mode": {
        "name": "ipython",
        "version": 3
      },
      "file_extension": ".py",
      "mimetype": "text/x-python",
      "name": "python",
      "nbconvert_exporter": "python",
      "pygments_lexer": "ipython3",
      "version": "3.11.9"
    }
  },
  "nbformat": 4,
  "nbformat_minor": 0
}