{
  "cells": [
    {
      "cell_type": "markdown",
      "metadata": {},
      "source": [
        "\n# Animate Camera\n\nAnimate a camera moving along a circular trajectory while looking at a target.\n"
      ]
    },
    {
      "cell_type": "code",
      "execution_count": null,
      "metadata": {
        "collapsed": false
      },
      "outputs": [],
      "source": [
        "import matplotlib.animation as animation\nimport matplotlib.pyplot as plt\nimport numpy as np\n\nfrom pytransform3d.plot_utils import Frame, Camera, make_3d_axis\nfrom pytransform3d.rotations import matrix_from_euler\nfrom pytransform3d.transformations import transform_from\n\n\ndef update_camera(step, n_frames, camera):\n    phi = 2 * np.pi * step / n_frames\n    tf = transform_from(\n        matrix_from_euler([-0.5 * np.pi, phi, 0], 0, 1, 2, False),\n        -10 * np.array([np.sin(phi), np.cos(phi), 0]),\n    )\n    camera.set_data(tf)\n    return camera\n\n\nif __name__ == \"__main__\":\n    n_frames = 50\n\n    fig = plt.figure(figsize=(5, 5))\n    ax = make_3d_axis(15)\n\n    frame = Frame(np.eye(4), label=\"target\", s=3, draw_label_indicator=False)\n    frame.add_frame(ax)\n\n    fl = 3000  # [pixels]\n    w, h = 1920, 1080  # [pixels]\n    M = np.array(((fl, 0, w // 2), (0, fl, h // 2), (0, 0, 1)))\n    camera = Camera(\n        M,\n        np.eye(4),\n        virtual_image_distance=5,\n        sensor_size=(w, h),\n        c=\"c\",\n    )\n    camera.add_camera(ax)\n\n    anim = animation.FuncAnimation(\n        fig,\n        update_camera,\n        n_frames,\n        fargs=(n_frames, camera),\n        interval=50,\n        blit=False,\n    )\n\n    plt.show()"
      ]
    }
  ],
  "metadata": {
    "kernelspec": {
      "display_name": "Python 3",
      "language": "python",
      "name": "python3"
    },
    "language_info": {
      "codemirror_mode": {
        "name": "ipython",
        "version": 3
      },
      "file_extension": ".py",
      "mimetype": "text/x-python",
      "name": "python",
      "nbconvert_exporter": "python",
      "pygments_lexer": "ipython3",
      "version": "3.12.9"
    }
  },
  "nbformat": 4,
  "nbformat_minor": 0
}