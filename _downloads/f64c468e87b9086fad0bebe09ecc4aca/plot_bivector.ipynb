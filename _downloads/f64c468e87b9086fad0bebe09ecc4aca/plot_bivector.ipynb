{
  "cells": [
    {
      "cell_type": "markdown",
      "metadata": {},
      "source": [
        "\n# Plot Bivector\n\nVisualizes a bivector constructed from the wedge product of two vectors.\nThe two vectors will be displayed in grey together with the parallelogram that\nthey form. Each component of the bivector corresponds to the area of the\nparallelogram projected on the basis planes. These parallelograms will be\nshown as well. Furthermore, one black arrow will show the rotation direction\nof the bivector and one black arrow will represent the normal of the plane\nthat can be extracted by rearranging the elements of the bivector and\nnormalizing the vector.\n"
      ]
    },
    {
      "cell_type": "code",
      "execution_count": null,
      "metadata": {
        "collapsed": false
      },
      "outputs": [],
      "source": [
        "import numpy as np\nimport matplotlib.pyplot as plt\nimport pytransform3d.rotations as pr\n\n\na = np.array([0.6, 0.3, 0.9])\nb = np.array([0.4, 0.8, 0.2])\n\nax = pr.plot_basis()\npr.plot_bivector(ax=ax, a=a, b=b)\nax.view_init(azim=75, elev=40)\nax.set_xlim((-0.5, 1))\nax.set_ylim((-0.5, 1))\nax.set_zlim((-0.5, 1))\nplt.tight_layout()\nplt.show()"
      ]
    }
  ],
  "metadata": {
    "kernelspec": {
      "display_name": "Python 3",
      "language": "python",
      "name": "python3"
    },
    "language_info": {
      "codemirror_mode": {
        "name": "ipython",
        "version": 3
      },
      "file_extension": ".py",
      "mimetype": "text/x-python",
      "name": "python",
      "nbconvert_exporter": "python",
      "pygments_lexer": "ipython3",
      "version": "3.11.9"
    }
  },
  "nbformat": 4,
  "nbformat_minor": 0
}