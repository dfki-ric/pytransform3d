{
  "cells": [
    {
      "cell_type": "markdown",
      "metadata": {},
      "source": [
        "\n# Visualize Transformed Cylinders\n\nPlots transformed cylinders.\n"
      ]
    },
    {
      "cell_type": "code",
      "execution_count": null,
      "metadata": {
        "collapsed": false
      },
      "outputs": [],
      "source": [
        "import numpy as np\nfrom pytransform3d.transformations import transform_from\nfrom pytransform3d.rotations import random_axis_angle, matrix_from_axis_angle\nimport pytransform3d.visualizer as pv\n\n\nfig = pv.figure()\nrng = np.random.default_rng(42)\nA2B = transform_from(\n    R=matrix_from_axis_angle(random_axis_angle(rng)),\n    p=rng.standard_normal(size=3))\nfig.plot_cylinder(length=1.0, radius=0.3)\nfig.plot_transform(A2B=np.eye(4))\nfig.plot_cylinder(length=1.0, radius=0.3, A2B=A2B)\nfig.plot_transform(A2B=A2B)\nfig.view_init()\nfig.set_zoom(2)\nif \"__file__\" in globals():\n    fig.show()\nelse:\n    fig.save_image(\"__open3d_rendered_image.jpg\")"
      ]
    }
  ],
  "metadata": {
    "kernelspec": {
      "display_name": "Python 3",
      "language": "python",
      "name": "python3"
    },
    "language_info": {
      "codemirror_mode": {
        "name": "ipython",
        "version": 3
      },
      "file_extension": ".py",
      "mimetype": "text/x-python",
      "name": "python",
      "nbconvert_exporter": "python",
      "pygments_lexer": "ipython3",
      "version": "3.11.9"
    }
  },
  "nbformat": 4,
  "nbformat_minor": 0
}