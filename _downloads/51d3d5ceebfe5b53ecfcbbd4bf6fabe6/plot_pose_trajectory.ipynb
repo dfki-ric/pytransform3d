{
  "cells": [
    {
      "cell_type": "markdown",
      "metadata": {},
      "source": [
        "\n# Pose Trajectory\n\nPlotting pose trajectories with pytransform3d is easy.\n"
      ]
    },
    {
      "cell_type": "code",
      "execution_count": null,
      "metadata": {
        "collapsed": false
      },
      "outputs": [],
      "source": [
        "import numpy as np\nimport matplotlib.pyplot as plt\nfrom pytransform3d.batch_rotations import quaternion_slerp_batch\nfrom pytransform3d.rotations import q_id\nfrom pytransform3d.trajectories import plot_trajectory\n\n\nn_steps = 100000\nP = np.empty((n_steps, 7))\nP[:, 0] = np.cos(np.linspace(-2 * np.pi, 2 * np.pi, n_steps))\nP[:, 1] = np.sin(np.linspace(-2 * np.pi, 2 * np.pi, n_steps))\nP[:, 2] = np.linspace(-1, 1, n_steps)\nq_end = np.array([0.0, 0.0, np.sqrt(0.5), np.sqrt(0.5)])\nP[:, 3:] = quaternion_slerp_batch(q_id, q_end, np.linspace(0, 1, n_steps))\n\nax = plot_trajectory(\n    P=P, s=0.3, n_frames=100, normalize_quaternions=False, lw=2, c=\"k\")\nplt.show()"
      ]
    }
  ],
  "metadata": {
    "kernelspec": {
      "display_name": "Python 3",
      "language": "python",
      "name": "python3"
    },
    "language_info": {
      "codemirror_mode": {
        "name": "ipython",
        "version": 3
      },
      "file_extension": ".py",
      "mimetype": "text/x-python",
      "name": "python",
      "nbconvert_exporter": "python",
      "pygments_lexer": "ipython3",
      "version": "3.11.9"
    }
  },
  "nbformat": 4,
  "nbformat_minor": 0
}