{
  "cells": [
    {
      "cell_type": "markdown",
      "metadata": {},
      "source": [
        "\n# Animate Rotation\n\nAnimates a rotation about the x-axis.\n"
      ]
    },
    {
      "cell_type": "code",
      "execution_count": null,
      "metadata": {
        "collapsed": false
      },
      "outputs": [],
      "source": [
        "import numpy as np\nimport pytransform3d.visualizer as pv\nfrom pytransform3d import rotations as pr\n\n\ndef animation_callback(step, n_frames, frame):\n    angle = 2.0 * np.pi * (step + 1) / n_frames\n    R = pr.passive_matrix_from_angle(0, angle)\n    A2B = np.eye(4)\n    A2B[:3, :3] = R\n    frame.set_data(A2B)\n    return frame\n\n\nfig = pv.figure(width=500, height=500)\nframe = fig.plot_basis(R=np.eye(3), s=0.5)\nfig.view_init()\n\nn_frames = 100\nif \"__file__\" in globals():\n    fig.animate(\n        animation_callback, n_frames, fargs=(n_frames, frame), loop=True)\n    fig.show()\nelse:\n    fig.save_image(\"__open3d_rendered_image.jpg\")"
      ]
    }
  ],
  "metadata": {
    "kernelspec": {
      "display_name": "Python 3",
      "language": "python",
      "name": "python3"
    },
    "language_info": {
      "codemirror_mode": {
        "name": "ipython",
        "version": 3
      },
      "file_extension": ".py",
      "mimetype": "text/x-python",
      "name": "python",
      "nbconvert_exporter": "python",
      "pygments_lexer": "ipython3",
      "version": "3.11.9"
    }
  },
  "nbformat": 4,
  "nbformat_minor": 0
}