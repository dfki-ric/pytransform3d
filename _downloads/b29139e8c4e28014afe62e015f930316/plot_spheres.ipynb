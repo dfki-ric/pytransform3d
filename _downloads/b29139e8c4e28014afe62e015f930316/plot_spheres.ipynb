{
  "cells": [
    {
      "cell_type": "markdown",
      "metadata": {},
      "source": [
        "\n# Plot Multiple Spheres\n\nBenchmarks plotting of multiple spheres at once and compares it to plotting\neach sphere individually.\n"
      ]
    },
    {
      "cell_type": "code",
      "execution_count": null,
      "metadata": {
        "collapsed": false
      },
      "outputs": [],
      "source": [
        "import numpy as np\nimport matplotlib.pyplot as plt\nfrom pytransform3d.plot_utils import plot_sphere, plot_spheres\nimport time\n\n\nn_spheres = 50\nrandom_state = np.random.default_rng(0)\nP = 2 * random_state.random((n_spheres, 3)) - 1\nradii = random_state.random(n_spheres) / 2\ncolors = random_state.random((n_spheres, 3))\nalphas = random_state.random(n_spheres)\n\nstart = time.time()\nplot_spheres(p=P, radius=radii, color=colors, alpha=alphas, wireframe=False)\nend = time.time()\ntime_multi = end - start\n\nstart = time.time()\nfor p, radius, color, alpha in zip(P, radii, colors, alphas):\n    plot_sphere(p=p, radius=radius, color=color, alpha=alpha, wireframe=False)\nend = time.time()\ntime_single = end - start\n\nspeedup = time_single / time_multi\n\nprint(\"n_spheres\", \"single\", \"\\t\", \"multi\", \"\\t\", \"speedup\", sep=\"\\t\")\nprint(n_spheres, \"\", time_single, time_multi, speedup, sep=\"\\t\")\n\nplt.show()"
      ]
    }
  ],
  "metadata": {
    "kernelspec": {
      "display_name": "Python 3",
      "language": "python",
      "name": "python3"
    },
    "language_info": {
      "codemirror_mode": {
        "name": "ipython",
        "version": 3
      },
      "file_extension": ".py",
      "mimetype": "text/x-python",
      "name": "python",
      "nbconvert_exporter": "python",
      "pygments_lexer": "ipython3",
      "version": "3.11.9"
    }
  },
  "nbformat": 4,
  "nbformat_minor": 0
}