{
  "cells": [
    {
      "cell_type": "markdown",
      "metadata": {},
      "source": [
        "\n# Sample Transforms\n"
      ]
    },
    {
      "cell_type": "code",
      "execution_count": null,
      "metadata": {
        "collapsed": false
      },
      "outputs": [],
      "source": [
        "import numpy as np\nimport matplotlib.pyplot as plt\nimport pytransform3d.transformations as pt\n\n\nmean = pt.transform_from(R=np.eye(3), p=np.array([0.0, 0.0, 0.5]))\ncov = np.diag([0.001, 0.001, 0.5, 0.001, 0.001, 0.001])\nrng = np.random.default_rng(0)\nax = None\nposes = np.array([\n    pt.random_transform(rng=rng, mean=mean, cov=cov) for _ in range(1000)])\nfor pose in poses:\n    ax = pt.plot_transform(ax=ax, A2B=pose, s=0.3)\nplt.show()"
      ]
    }
  ],
  "metadata": {
    "kernelspec": {
      "display_name": "Python 3",
      "language": "python",
      "name": "python3"
    },
    "language_info": {
      "codemirror_mode": {
        "name": "ipython",
        "version": 3
      },
      "file_extension": ".py",
      "mimetype": "text/x-python",
      "name": "python",
      "nbconvert_exporter": "python",
      "pygments_lexer": "ipython3",
      "version": "3.11.9"
    }
  },
  "nbformat": 4,
  "nbformat_minor": 0
}