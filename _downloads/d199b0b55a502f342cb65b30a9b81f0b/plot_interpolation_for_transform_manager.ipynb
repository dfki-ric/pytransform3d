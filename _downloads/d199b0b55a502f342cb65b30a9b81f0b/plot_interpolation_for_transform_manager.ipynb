{
  "cells": [
    {
      "cell_type": "markdown",
      "metadata": {},
      "source": [
        "\n# Managing Transformations over Time\n\nIn this example, given two trajectories of 3D rigid transformations, we will\ninterpolate both and use the transform manager for the target timestep.\n"
      ]
    },
    {
      "cell_type": "code",
      "execution_count": null,
      "metadata": {
        "collapsed": false
      },
      "outputs": [],
      "source": [
        "import matplotlib.pyplot as plt\nimport numpy as np\n\nfrom pytransform3d import rotations as pr\nfrom pytransform3d import transformations as pt\nfrom pytransform3d.transform_manager import (\n    TemporalTransformManager,\n    NumpyTimeseriesTransform,\n)\n\n\ndef create_sinusoidal_movement(\n    duration_sec, sample_period, x_velocity, y_start_offset, start_time\n):\n    \"\"\"Create a planar (z=0) sinusoidal movement around x-axis.\"\"\"\n    time = np.arange(0, duration_sec, sample_period) + start_time\n    n_steps = len(time)\n    x = np.linspace(0, x_velocity * duration_sec, n_steps)\n\n    spatial_freq = 1.0 / 5.0  # 1 sinus per 5m\n    omega = 2.0 * np.pi * spatial_freq\n    y = np.sin(omega * x)\n    y += y_start_offset\n\n    dydx = omega * np.cos(omega * x)\n    yaw = np.arctan2(dydx, np.ones_like(dydx))\n\n    pqs = []\n    for i in range(n_steps):\n        R = pr.active_matrix_from_extrinsic_euler_zyx([yaw[i], 0, 0])\n        T = pt.transform_from(R, [x[i], y[i], 0])\n        pq = pt.pq_from_transform(T)\n        pqs.append(pq)\n\n    return time, np.array(pqs)\n\n\n# create entities A and B together with their transformations from world\nduration = 10.0  # [s]\nsample_period = 0.5  # [s]\nvelocity_x = 1  # [m/s]\ntime_A, pqs_A = create_sinusoidal_movement(\n    duration, sample_period, velocity_x, y_start_offset=2.0, start_time=0.1\n)\ntime_B, pqs_B = create_sinusoidal_movement(\n    duration, sample_period, velocity_x, y_start_offset=-2.0, start_time=0.35\n)\n\n# package them into an instance of `TimeVaryingTransform` abstract class\ntransform_WA = NumpyTimeseriesTransform(time_A, pqs_A)\ntransform_WB = NumpyTimeseriesTransform(time_B, pqs_B)\n\ntm = TemporalTransformManager()\n\ntm.add_transform(\"A\", \"world\", transform_WA)\ntm.add_transform(\"B\", \"world\", transform_WB)\n\nquery_time = 4.9  # [s] or an array of times np.array([4.9, 5.2])\nA2B_at_query_time = tm.get_transform_at_time(\"A\", \"B\", query_time)\n\n# transform the origin of A in A (x=0, y=0, z=0) to B\norigin_of_A_pos = pt.vector_to_point([0, 0, 0])\norigin_of_A_in_B_xyz = pt.transform(A2B_at_query_time, origin_of_A_pos)[:-1]\n\n# for visualization purposes\npq_A = pt.pq_from_transform(transform_WA.as_matrix(query_time))\npq_B = pt.pq_from_transform(transform_WB.as_matrix(query_time))\n\nplt.figure(figsize=(8, 8))\nplt.plot(pqs_A[:, 0], pqs_A[:, 1], \"bo--\", label=\"trajectory $A(t)$\")\nplt.plot(pqs_B[:, 0], pqs_B[:, 1], \"yo--\", label=\"trajectory $B(t)$\")\nplt.scatter(pq_A[0], pq_A[1], color=\"b\", s=120, marker=\"d\", label=\"$A(t_q)$\")\nplt.scatter(pq_B[0], pq_B[1], color=\"y\", s=120, marker=\"^\", label=\"$B(t_q)$\")\nplt.text(\n    pq_A[0] + 0.3,\n    pq_A[1] - 0.3,\n    f\"origin of A in B:\\n(x={origin_of_A_in_B_xyz[0]:.2f}m,\"\n    + f\" y={origin_of_A_in_B_xyz[1]:.2f}m)\",\n)\nplt.xlabel(\"x [m]\")\nplt.ylabel(\"y [m]\")\nplt.xlim(0, 10)\nplt.ylim(-5, 5)\nplt.grid()\nplt.legend()\nplt.show()"
      ]
    }
  ],
  "metadata": {
    "kernelspec": {
      "display_name": "Python 3",
      "language": "python",
      "name": "python3"
    },
    "language_info": {
      "codemirror_mode": {
        "name": "ipython",
        "version": 3
      },
      "file_extension": ".py",
      "mimetype": "text/x-python",
      "name": "python",
      "nbconvert_exporter": "python",
      "pygments_lexer": "ipython3",
      "version": "3.11.9"
    }
  },
  "nbformat": 4,
  "nbformat_minor": 0
}