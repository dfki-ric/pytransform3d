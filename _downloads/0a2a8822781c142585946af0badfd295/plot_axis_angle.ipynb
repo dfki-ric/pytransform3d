{
  "cells": [
    {
      "cell_type": "markdown",
      "metadata": {},
      "source": [
        "\n# Axis-Angle Representation of Rotation\n\nAny rotation can be represented with a single rotation about some axis.\nHere we see a frame that is rotated in multiple steps around a rotation\naxis.\n"
      ]
    },
    {
      "cell_type": "code",
      "execution_count": null,
      "metadata": {
        "collapsed": false
      },
      "outputs": [],
      "source": [
        "import numpy as np\nimport matplotlib.pyplot as plt\nfrom pytransform3d.rotations import (random_axis_angle, matrix_from_axis_angle,\n                                     plot_basis, plot_axis_angle)\n\n\noriginal = random_axis_angle(np.random.RandomState(5))\nax = plot_axis_angle(a=original)\nfor fraction in np.linspace(0, 1, 50):\n    a = original.copy()\n    a[-1] = fraction * original[-1]\n    R = matrix_from_axis_angle(a)\n    plot_basis(ax, R, alpha=0.2)\nplt.subplots_adjust(left=0, right=1, bottom=0, top=1.1)\nax.view_init(azim=105, elev=12)\nplt.show()"
      ]
    }
  ],
  "metadata": {
    "kernelspec": {
      "display_name": "Python 3",
      "language": "python",
      "name": "python3"
    },
    "language_info": {
      "codemirror_mode": {
        "name": "ipython",
        "version": 3
      },
      "file_extension": ".py",
      "mimetype": "text/x-python",
      "name": "python",
      "nbconvert_exporter": "python",
      "pygments_lexer": "ipython3",
      "version": "3.11.9"
    }
  },
  "nbformat": 4,
  "nbformat_minor": 0
}