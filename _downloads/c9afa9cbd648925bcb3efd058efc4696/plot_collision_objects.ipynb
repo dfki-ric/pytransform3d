{
  "cells": [
    {
      "cell_type": "markdown",
      "metadata": {},
      "source": [
        "\n# URDF with Collision Objects\n\nThis example shows how to load a URDF description of collision objects and\ndisplay them.\n"
      ]
    },
    {
      "cell_type": "code",
      "execution_count": null,
      "metadata": {
        "collapsed": false
      },
      "outputs": [],
      "source": [
        "import matplotlib.pyplot as plt\nfrom pytransform3d.urdf import UrdfTransformManager\n\n\nURDF = \"\"\"\n<?xml version=\"1.0\"?>\n  <robot name=\"collision\">\n    <link name=\"collision\">\n      <collision name=\"collision_01\">\n        <origin xyz=\"0 0 1\" rpy=\"1 0 0\"/>\n        <geometry>\n          <sphere radius=\"0.2\"/>\n        </geometry>\n      </collision>\n      <collision name=\"collision_02\">\n        <origin xyz=\"0 0.5 0\" rpy=\"0 1 0\"/>\n        <geometry>\n          <cylinder radius=\"0.1\" length=\"2\"/>\n        </geometry>\n      </collision>\n      <collision name=\"collision_03\">\n        <origin xyz=\"-0.5 0 0\" rpy=\"0 0 1\"/>\n        <geometry>\n          <box size=\"0.3 0.4 0.5\"/>\n        </geometry>\n      </collision>\n  </robot>\n\"\"\"\n\n\ntm = UrdfTransformManager()\ntm.load_urdf(URDF)\nax = tm.plot_frames_in(\"collision\", s=0.1)\ntm.plot_collision_objects(\"collision\", ax)\nax.set_zlim((-0.5, 1.5))\nplt.show()"
      ]
    }
  ],
  "metadata": {
    "kernelspec": {
      "display_name": "Python 3",
      "language": "python",
      "name": "python3"
    },
    "language_info": {
      "codemirror_mode": {
        "name": "ipython",
        "version": 3
      },
      "file_extension": ".py",
      "mimetype": "text/x-python",
      "name": "python",
      "nbconvert_exporter": "python",
      "pygments_lexer": "ipython3",
      "version": "3.11.9"
    }
  },
  "nbformat": 4,
  "nbformat_minor": 0
}