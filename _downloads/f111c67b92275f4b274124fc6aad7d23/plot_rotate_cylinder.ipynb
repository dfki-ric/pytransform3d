{
  "cells": [
    {
      "cell_type": "markdown",
      "metadata": {},
      "source": [
        "\n# Rotate Cylinder\n\nIn this example, we apply a constant torque (tau) to a cylinder at its\ncenter of gravity and plot it at several steps during the acceleration.\n"
      ]
    },
    {
      "cell_type": "code",
      "execution_count": null,
      "metadata": {
        "collapsed": false
      },
      "outputs": [],
      "source": [
        "import numpy as np\nimport matplotlib.pyplot as plt\nfrom pytransform3d.rotations import matrix_from_compact_axis_angle\nfrom pytransform3d.transformations import transform_from, plot_transform\nfrom pytransform3d.plot_utils import plot_cylinder\n\n\ndef inertia_of_cylinder(mass, length, radius):\n    I_xx = I_yy = 0.25 * mass * radius ** 2 + 1.0 / 12.0 * mass * length ** 2\n    I_zz = 0.5 * mass * radius ** 2\n    return np.eye(3) * np.array([I_xx, I_yy, I_zz])\n\n\nA2B = np.eye(4)\n\nlength = 1.0\nradius = 0.1\nmass = 1.0\ndt = 0.2\ninertia = inertia_of_cylinder(mass, length, radius)\ntau = np.array([0.05, 0.05, 0.0])\nangular_velocity = np.zeros(3)\norientation = np.zeros(3)\n\nax = None\nfor p_xy in np.linspace(-2, 2, 21):\n    A2B = transform_from(R=matrix_from_compact_axis_angle(orientation),\n                         p=np.array([p_xy, p_xy, 0.0]))\n    ax = plot_cylinder(length=length, radius=radius, A2B=A2B, wireframe=False,\n                       alpha=0.2, ax_s=2.0, ax=ax)\n    plot_transform(ax=ax, A2B=A2B, s=radius, lw=3)\n\n    angular_acceleration = np.linalg.inv(inertia).dot(tau)\n    angular_velocity += dt * angular_acceleration\n    orientation += dt * angular_velocity\nax.view_init(elev=30, azim=70)\nplt.show()"
      ]
    }
  ],
  "metadata": {
    "kernelspec": {
      "display_name": "Python 3",
      "language": "python",
      "name": "python3"
    },
    "language_info": {
      "codemirror_mode": {
        "name": "ipython",
        "version": 3
      },
      "file_extension": ".py",
      "mimetype": "text/x-python",
      "name": "python",
      "nbconvert_exporter": "python",
      "pygments_lexer": "ipython3",
      "version": "3.11.9"
    }
  },
  "nbformat": 4,
  "nbformat_minor": 0
}