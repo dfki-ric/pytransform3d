{
  "cells": [
    {
      "cell_type": "markdown",
      "metadata": {},
      "source": [
        "\n# Quaternion SLERP\n\nFor small rotations, linear interpolation of quaternions gives almost the same\nresults as spherical linear interpolation (SLERP). For larger angles there are\nsignificant differences as you can see in this example. The outer circle uses\nlinear interpolation and the inner circle uses SLERP. You can play around with\nthe value of 'end_angle' in this example.\n"
      ]
    },
    {
      "cell_type": "code",
      "execution_count": null,
      "metadata": {
        "collapsed": false
      },
      "outputs": [],
      "source": [
        "import numpy as np\nimport matplotlib.pyplot as plt\nfrom pytransform3d.rotations import (\n    matrix_from_axis_angle, quaternion_from_matrix, quaternion_slerp)\nfrom pytransform3d.trajectories import plot_trajectory\n\n\nT = np.linspace(0, 1, 1001)\nsigmoid = 0.5 * (np.tanh(1.5 * np.pi * (T - 0.5)) + 1.0)\nradius = 0.5\nstart_angle = np.deg2rad(0.0)\nend_angle = np.deg2rad(350.0)\n\nR1 = matrix_from_axis_angle([0, 0, 1, 0.5 * np.pi])\nR2_start = matrix_from_axis_angle([1, 0, 0, start_angle])\nR2_end = matrix_from_axis_angle([1, 0, 0, end_angle])\nq_start = quaternion_from_matrix(R1.dot(R2_start))\nq_end = quaternion_from_matrix(R1.dot(R2_end))\n\nY = np.zeros((len(T), 7))\nY[:, 0] = radius * np.cos(np.deg2rad(90) - end_angle * sigmoid)\nY[:, 2] = radius * np.sin(np.deg2rad(90) - end_angle * sigmoid)\nif end_angle > np.pi:\n    q_end *= -1.0\nY[:, 3:] = (1.0 - T)[:, np.newaxis] * q_start + T[:, np.newaxis] * q_end\n\nY_slerp = np.zeros((len(T), 7))\nY_slerp[:, 0] = 0.7 * radius * np.cos(np.deg2rad(90) - end_angle * sigmoid)\nY_slerp[:, 2] = 0.7 * radius * np.sin(np.deg2rad(90) - end_angle * sigmoid)\nfor i, t in enumerate(T):\n    Y_slerp[i, 3:] = quaternion_slerp(q_start, q_end, t)\n\nax = plot_trajectory(\n    P=Y[:, :7], show_direction=False, n_frames=40, s=0.05, ax_s=0.7)\nax = plot_trajectory(\n    P=Y_slerp[:, :7], show_direction=False, n_frames=40, s=0.05, ax=ax)\nax.text(0.1, 0, 0, \"SLERP\")\nax.text(0.4, 0, 0.6, \"Naive linear interpolation\")\nax.view_init(elev=10, azim=90)\nplt.show()"
      ]
    }
  ],
  "metadata": {
    "kernelspec": {
      "display_name": "Python 3",
      "language": "python",
      "name": "python3"
    },
    "language_info": {
      "codemirror_mode": {
        "name": "ipython",
        "version": 3
      },
      "file_extension": ".py",
      "mimetype": "text/x-python",
      "name": "python",
      "nbconvert_exporter": "python",
      "pygments_lexer": "ipython3",
      "version": "3.11.9"
    }
  },
  "nbformat": 4,
  "nbformat_minor": 0
}