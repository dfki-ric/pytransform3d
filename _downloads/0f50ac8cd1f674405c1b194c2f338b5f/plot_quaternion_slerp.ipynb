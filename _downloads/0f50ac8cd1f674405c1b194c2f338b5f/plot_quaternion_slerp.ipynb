{
  "cells": [
    {
      "cell_type": "markdown",
      "metadata": {},
      "source": [
        "\n# Quaternion SLERP\n\nFor small rotations, linear interpolation of quaternions gives almost the same\nresults as spherical linear interpolation (SLERP). For larger angles there are\nsignificant differences as you can see in this example. The outer circle uses\nlinear interpolation and the inner circle uses SLERP. You can play around with\nthe value of 'end_angle' in this example.\n"
      ]
    },
    {
      "cell_type": "code",
      "execution_count": null,
      "metadata": {
        "collapsed": false
      },
      "outputs": [],
      "source": [
        "import matplotlib.pyplot as plt\nimport numpy as np\n\nfrom pytransform3d.rotations import (\n    matrix_from_axis_angle,\n    quaternion_from_matrix,\n    quaternion_slerp,\n)\nfrom pytransform3d.trajectories import plot_trajectory"
      ]
    },
    {
      "cell_type": "markdown",
      "metadata": {},
      "source": [
        "We assume the array T represents something like time.\nThe position follows a sigmoid profile on a circular path over time, hence\nvelocity is not constant.\n\n"
      ]
    },
    {
      "cell_type": "code",
      "execution_count": null,
      "metadata": {
        "collapsed": false
      },
      "outputs": [],
      "source": [
        "T = np.linspace(0, 1, 1001)\nsigmoid = 0.5 * (np.tanh(1.5 * np.pi * (T - 0.5)) + 1.0)\nradius = 0.5\nstart_angle = np.deg2rad(0.0)\nend_angle = np.deg2rad(350.0)\n\nR1 = matrix_from_axis_angle([0, 0, 1, 0.5 * np.pi])\nR2_start = matrix_from_axis_angle([1, 0, 0, start_angle])\nR2_end = matrix_from_axis_angle([1, 0, 0, end_angle])\nq_start = quaternion_from_matrix(R1.dot(R2_start))\nq_end = quaternion_from_matrix(R1.dot(R2_end))"
      ]
    },
    {
      "cell_type": "markdown",
      "metadata": {},
      "source": [
        "The naive linear interpolation method computes a time-weighted average\nbetween the orientation at the start and the orientation at the end.\n\n"
      ]
    },
    {
      "cell_type": "code",
      "execution_count": null,
      "metadata": {
        "collapsed": false
      },
      "outputs": [],
      "source": [
        "lerp = np.zeros((len(T), 7))\nlerp[:, 0] = radius * np.cos(np.deg2rad(90) - end_angle * sigmoid)\nlerp[:, 2] = radius * np.sin(np.deg2rad(90) - end_angle * sigmoid)\nif end_angle > np.pi:\n    q_end *= -1.0\nlerp[:, 3:] = (1.0 - T)[:, np.newaxis] * q_start + T[:, np.newaxis] * q_end"
      ]
    },
    {
      "cell_type": "markdown",
      "metadata": {},
      "source": [
        "SLERP is the exact method to interpolate the orientations.\n\n"
      ]
    },
    {
      "cell_type": "code",
      "execution_count": null,
      "metadata": {
        "collapsed": false
      },
      "outputs": [],
      "source": [
        "slerp = np.zeros((len(T), 7))\nslerp[:, 0] = 0.7 * radius * np.cos(np.deg2rad(90) - end_angle * sigmoid)\nslerp[:, 2] = 0.7 * radius * np.sin(np.deg2rad(90) - end_angle * sigmoid)\nfor i, t in enumerate(T):\n    slerp[i, 3:] = quaternion_slerp(q_start, q_end, t)"
      ]
    },
    {
      "cell_type": "markdown",
      "metadata": {},
      "source": [
        "The following 3D plot compares the two approaches.\n\n"
      ]
    },
    {
      "cell_type": "code",
      "execution_count": null,
      "metadata": {
        "collapsed": false
      },
      "outputs": [],
      "source": [
        "ax = plot_trajectory(\n    P=lerp, show_direction=False, n_frames=40, s=0.05, ax_s=0.7\n)\nax = plot_trajectory(P=slerp, show_direction=False, n_frames=40, s=0.05, ax=ax)\nax.text(0.1, 0, 0, \"SLERP\")\nax.text(0.4, 0, 0.6, \"Naive linear interpolation\")\nax.view_init(elev=10, azim=90)\nplt.show()"
      ]
    }
  ],
  "metadata": {
    "kernelspec": {
      "display_name": "Python 3",
      "language": "python",
      "name": "python3"
    },
    "language_info": {
      "codemirror_mode": {
        "name": "ipython",
        "version": 3
      },
      "file_extension": ".py",
      "mimetype": "text/x-python",
      "name": "python",
      "nbconvert_exporter": "python",
      "pygments_lexer": "ipython3",
      "version": "3.12.9"
    }
  },
  "nbformat": 4,
  "nbformat_minor": 0
}