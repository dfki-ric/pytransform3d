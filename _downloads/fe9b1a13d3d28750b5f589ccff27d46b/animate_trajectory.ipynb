{
  "cells": [
    {
      "cell_type": "markdown",
      "metadata": {},
      "source": [
        "\n# Animate Trajectory\n\nAnimates a trajectory.\n"
      ]
    },
    {
      "cell_type": "code",
      "execution_count": null,
      "metadata": {
        "collapsed": false
      },
      "outputs": [],
      "source": [
        "import numpy as np\nimport matplotlib.pyplot as plt\nfrom mpl_toolkits.mplot3d import axes3d\nimport matplotlib.animation as animation\nfrom pytransform3d.plot_utils import Trajectory\nfrom pytransform3d.rotations import passive_matrix_from_angle, R_id\nfrom pytransform3d.transformations import transform_from, concat\n\n\ndef update_trajectory(step, n_frames, trajectory):\n    progress = float(step + 1) / float(n_frames)\n    H = np.zeros((100, 4, 4))\n    H0 = transform_from(R_id, np.zeros(3))\n    H_mod = np.eye(4)\n    for i, t in enumerate(np.linspace(0, progress, len(H))):\n        H0[:3, 3] = np.array([t, 0, t])\n        H_mod[:3, :3] = passive_matrix_from_angle(2, 8 * np.pi * t)\n        H[i] = concat(H0, H_mod)\n\n    trajectory.set_data(H)\n    return trajectory\n\n\nif __name__ == \"__main__\":\n    n_frames = 200\n\n    fig = plt.figure(figsize=(5, 5))\n\n    ax = fig.add_subplot(111, projection=\"3d\")\n    ax.set_xlim((-1, 1))\n    ax.set_ylim((-1, 1))\n    ax.set_zlim((-1, 1))\n    ax.set_xlabel(\"X\")\n    ax.set_ylabel(\"Y\")\n    ax.set_zlabel(\"Z\")\n\n    H = np.zeros((100, 4, 4))\n    H[:] = np.eye(4)\n    trajectory = Trajectory(H, show_direction=False, s=0.2, c=\"k\")\n    trajectory.add_trajectory(ax)\n\n    anim = animation.FuncAnimation(\n        fig, update_trajectory, n_frames, fargs=(n_frames, trajectory),\n        interval=50, blit=False)\n\n    plt.show()"
      ]
    }
  ],
  "metadata": {
    "kernelspec": {
      "display_name": "Python 3",
      "language": "python",
      "name": "python3"
    },
    "language_info": {
      "codemirror_mode": {
        "name": "ipython",
        "version": 3
      },
      "file_extension": ".py",
      "mimetype": "text/x-python",
      "name": "python",
      "nbconvert_exporter": "python",
      "pygments_lexer": "ipython3",
      "version": "3.11.9"
    }
  },
  "nbformat": 4,
  "nbformat_minor": 0
}