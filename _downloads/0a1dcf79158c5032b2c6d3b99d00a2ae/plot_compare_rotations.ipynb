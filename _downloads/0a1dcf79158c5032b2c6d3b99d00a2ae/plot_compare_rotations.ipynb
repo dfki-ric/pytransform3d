{
  "cells": [
    {
      "cell_type": "markdown",
      "metadata": {},
      "source": [
        "\n# Compare Various Definitions of Rotations\n"
      ]
    },
    {
      "cell_type": "code",
      "execution_count": null,
      "metadata": {
        "collapsed": false
      },
      "outputs": [],
      "source": [
        "import numpy as np\nimport matplotlib.pyplot as plt\nfrom pytransform3d import rotations as pr\n\n\nax = pr.plot_basis(R=np.eye(3), ax_s=2, lw=3)\naxis = 2\nangle = np.pi\n\np = np.array([1.0, 1.0, 1.0])\neuler = [0, 0, 0]\neuler[axis] = angle\nR = pr.active_matrix_from_intrinsic_euler_xyz(euler)\npr.plot_basis(ax, R, p)\n\np = np.array([-1.0, 1.0, 1.0])\neuler = [0, 0, 0]\neuler[2 - axis] = angle\nR = pr.active_matrix_from_intrinsic_euler_zyx(euler)\npr.plot_basis(ax, R, p)\n\np = np.array([1.0, 1.0, -1.0])\nR = pr.active_matrix_from_angle(axis, angle)\npr.plot_basis(ax, R, p)\n\np = np.array([1.0, -1.0, -1.0])\ne = [pr.unitx, pr.unity, pr.unitz][axis]\na = np.hstack((e, (angle,)))\nR = pr.matrix_from_axis_angle(a)\npr.plot_basis(ax, R, p)\npr.plot_axis_angle(ax, a, p)\n\np = np.array([-1.0, -1.0, -1.0])\nq = pr.quaternion_from_axis_angle(a)\nR = pr.matrix_from_quaternion(q)\npr.plot_basis(ax, R, p)\n\nplt.show()"
      ]
    }
  ],
  "metadata": {
    "kernelspec": {
      "display_name": "Python 3",
      "language": "python",
      "name": "python3"
    },
    "language_info": {
      "codemirror_mode": {
        "name": "ipython",
        "version": 3
      },
      "file_extension": ".py",
      "mimetype": "text/x-python",
      "name": "python",
      "nbconvert_exporter": "python",
      "pygments_lexer": "ipython3",
      "version": "3.11.9"
    }
  },
  "nbformat": 4,
  "nbformat_minor": 0
}