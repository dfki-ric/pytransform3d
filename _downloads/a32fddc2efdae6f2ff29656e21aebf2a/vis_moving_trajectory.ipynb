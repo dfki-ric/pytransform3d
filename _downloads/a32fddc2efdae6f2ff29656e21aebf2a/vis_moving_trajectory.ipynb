{
  "cells": [
    {
      "cell_type": "markdown",
      "metadata": {},
      "source": [
        "\n# Animate Trajectory\n\nAnimates a trajectory.\n"
      ]
    },
    {
      "cell_type": "code",
      "execution_count": null,
      "metadata": {
        "collapsed": false
      },
      "outputs": [],
      "source": [
        "import numpy as np\nimport pytransform3d.visualizer as pv\nfrom pytransform3d.rotations import passive_matrix_from_angle, R_id\nfrom pytransform3d.transformations import transform_from, concat\n\n\ndef update_trajectory(step, n_frames, trajectory):\n    progress = 1 - float(step + 1) / float(n_frames)\n    H = np.zeros((100, 4, 4))\n    H0 = transform_from(R_id, np.zeros(3))\n    H_mod = np.eye(4)\n    for i, t in enumerate(np.linspace(0, progress, len(H))):\n        H0[:3, 3] = np.array([t, 0, t])\n        H_mod[:3, :3] = passive_matrix_from_angle(2, 8 * np.pi * t)\n        H[i] = concat(H0, H_mod)\n\n    trajectory.set_data(H)\n    return trajectory\n\n\nn_frames = 200\n\nfig = pv.figure()\n\nH = np.empty((100, 4, 4))\nH[:] = np.eye(4)\n# set initial trajectory to extend view box\nH[:, 0, 3] = np.linspace(-2, 2, len(H))\nH[:, 1, 3] = np.linspace(-2, 2, len(H))\nH[:, 2, 3] = np.linspace(0, 4, len(H))\ntrajectory = pv.Trajectory(H, s=0.2, c=[0, 0, 0])\ntrajectory.add_artist(fig)\nfig.view_init()\nfig.set_zoom(0.5)\n\nif \"__file__\" in globals():\n    fig.animate(\n        update_trajectory, n_frames, fargs=(n_frames, trajectory), loop=True)\n    fig.show()\nelse:\n    fig.save_image(\"__open3d_rendered_image.jpg\")"
      ]
    }
  ],
  "metadata": {
    "kernelspec": {
      "display_name": "Python 3",
      "language": "python",
      "name": "python3"
    },
    "language_info": {
      "codemirror_mode": {
        "name": "ipython",
        "version": 3
      },
      "file_extension": ".py",
      "mimetype": "text/x-python",
      "name": "python",
      "nbconvert_exporter": "python",
      "pygments_lexer": "ipython3",
      "version": "3.11.9"
    }
  },
  "nbformat": 4,
  "nbformat_minor": 0
}