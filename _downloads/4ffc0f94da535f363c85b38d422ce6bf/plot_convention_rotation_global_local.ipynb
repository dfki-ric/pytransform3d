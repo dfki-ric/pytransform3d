{
  "cells": [
    {
      "cell_type": "markdown",
      "metadata": {},
      "source": [
        "\n# Convention for Rotation: Passive / Active, Extrinsic / Intrinsic\n\nWe will compare all possible combinations of passive and active\nrotations and extrinsic and intrinsic concatenation of rotations.\n"
      ]
    },
    {
      "cell_type": "code",
      "execution_count": null,
      "metadata": {
        "collapsed": false
      },
      "outputs": [],
      "source": [
        "import numpy as np\nimport matplotlib.pyplot as plt\nfrom mpl_toolkits.mplot3d import proj3d\nfrom pytransform3d.rotations import (\n    passive_matrix_from_angle, active_matrix_from_angle, plot_basis)"
      ]
    },
    {
      "cell_type": "markdown",
      "metadata": {},
      "source": [
        "## Passive Extrinsic Rotations\n\n"
      ]
    },
    {
      "cell_type": "code",
      "execution_count": null,
      "metadata": {
        "collapsed": false
      },
      "outputs": [],
      "source": [
        "plt.figure(figsize=(8, 3))\naxes = [plt.subplot(1, 3, 1 + i, projection=\"3d\") for i in range(3)]\nfor ax in axes:\n    plt.setp(ax, xlim=(-1, 1), ylim=(-1, 1), zlim=(-1, 1),\n             xlabel=\"X\", ylabel=\"Y\", zlabel=\"Z\")\n\nRx45 = passive_matrix_from_angle(0, np.deg2rad(45))\nRz45 = passive_matrix_from_angle(2, np.deg2rad(45))\n\naxes[0].set_title(\"Passive Extrinsic Rotations\", y=0.95)\nplot_basis(ax=axes[0], R=np.eye(3))\naxes[1].set_title(\"$R_x(45^{\\circ})$\", y=0.95)\nplot_basis(ax=axes[1], R=Rx45)\naxes[2].set_title(\"$R_z(45^{\\circ}) R_x(45^{\\circ})$\", y=0.95)\nplot_basis(ax=axes[2], R=Rz45.dot(Rx45))\n\nplt.tight_layout()"
      ]
    },
    {
      "cell_type": "markdown",
      "metadata": {},
      "source": [
        "## Passive Intrinsic Rotations\n\n"
      ]
    },
    {
      "cell_type": "code",
      "execution_count": null,
      "metadata": {
        "collapsed": false
      },
      "outputs": [],
      "source": [
        "plt.figure(figsize=(8, 3))\naxes = [plt.subplot(1, 3, 1 + i, projection=\"3d\") for i in range(3)]\nfor ax in axes:\n    plt.setp(ax, xlim=(-1, 1), ylim=(-1, 1), zlim=(-1, 1),\n             xlabel=\"X\", ylabel=\"Y\", zlabel=\"Z\")\n\naxes[0].set_title(\"Passive Intrinsic Rotations\", y=0.95)\nplot_basis(ax=axes[0], R=np.eye(3))\naxes[1].set_title(\"$R_x(45^{\\circ})$\", y=0.95)\nplot_basis(ax=axes[1], R=Rx45)\naxes[2].set_title(\"$R_x(45^{\\circ}) R_{z'}(45^{\\circ})$\", y=0.95)\nplot_basis(ax=axes[2], R=Rx45.dot(Rz45))\n\nplt.tight_layout()"
      ]
    },
    {
      "cell_type": "markdown",
      "metadata": {},
      "source": [
        "## Active Extrinsic Rotations\n\n"
      ]
    },
    {
      "cell_type": "code",
      "execution_count": null,
      "metadata": {
        "collapsed": false
      },
      "outputs": [],
      "source": [
        "plt.figure(figsize=(8, 3))\naxes = [plt.subplot(1, 3, 1 + i, projection=\"3d\") for i in range(3)]\nfor ax in axes:\n    plt.setp(ax, xlim=(-1, 1), ylim=(-1, 1), zlim=(-1, 1),\n             xlabel=\"X\", ylabel=\"Y\", zlabel=\"Z\")\n\nRx45 = active_matrix_from_angle(0, np.deg2rad(45))\nRz45 = active_matrix_from_angle(2, np.deg2rad(45))\n\naxes[0].set_title(\"Active Extrinsic Rotations\", y=0.95)\nplot_basis(ax=axes[0], R=np.eye(3))\naxes[1].set_title(\"$R_x(45^{\\circ})$\", y=0.95)\nplot_basis(ax=axes[1], R=Rx45)\naxes[2].set_title(\"$R_z(45^{\\circ}) R_x(45^{\\circ})$\", y=0.95)\nplot_basis(ax=axes[2], R=Rz45.dot(Rx45))\n\nplt.tight_layout()"
      ]
    },
    {
      "cell_type": "markdown",
      "metadata": {},
      "source": [
        "## Active Intrinsic Rotations\n\n"
      ]
    },
    {
      "cell_type": "code",
      "execution_count": null,
      "metadata": {
        "collapsed": false
      },
      "outputs": [],
      "source": [
        "plt.figure(figsize=(8, 3))\naxes = [plt.subplot(1, 3, 1 + i, projection=\"3d\") for i in range(3)]\nfor ax in axes:\n    plt.setp(ax, xlim=(-1, 1), ylim=(-1, 1), zlim=(-1, 1),\n             xlabel=\"X\", ylabel=\"Y\", zlabel=\"Z\")\n\naxes[0].set_title(\"Active Intrinsic Rotations\", y=0.95)\nplot_basis(ax=axes[0], R=np.eye(3))\naxes[1].set_title(\"$R_x(45^{\\circ})$\", y=0.95)\nplot_basis(ax=axes[1], R=Rx45)\naxes[2].set_title(\"$R_x(45^{\\circ}) R_{z'}(45^{\\circ})$\", y=0.95)\nplot_basis(ax=axes[2], R=Rx45.dot(Rz45))\n\nplt.tight_layout()\n\nplt.show()"
      ]
    }
  ],
  "metadata": {
    "kernelspec": {
      "display_name": "Python 3",
      "language": "python",
      "name": "python3"
    },
    "language_info": {
      "codemirror_mode": {
        "name": "ipython",
        "version": 3
      },
      "file_extension": ".py",
      "mimetype": "text/x-python",
      "name": "python",
      "nbconvert_exporter": "python",
      "pygments_lexer": "ipython3",
      "version": "3.11.9"
    }
  },
  "nbformat": 4,
  "nbformat_minor": 0
}