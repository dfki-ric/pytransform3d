{
  "cells": [
    {
      "cell_type": "markdown",
      "metadata": {},
      "source": [
        "\n# Camera Transform\n\nWe can see the camera frame and the world frame. There is a grid of points from\nwhich we know the world coordinates. If we know the location and orientation of\nthe camera in the world, we can easily compute the location of the points on\nthe image.\n"
      ]
    },
    {
      "cell_type": "code",
      "execution_count": null,
      "metadata": {
        "collapsed": false
      },
      "outputs": [],
      "source": [
        "import numpy as np\nimport matplotlib.pyplot as plt\nfrom pytransform3d.plot_utils import make_3d_axis\nfrom pytransform3d.rotations import active_matrix_from_intrinsic_euler_xyz\nfrom pytransform3d.transformations import transform_from, plot_transform\nfrom pytransform3d.camera import make_world_grid, world2image, plot_camera\n\n\ncam2world = transform_from(\n    active_matrix_from_intrinsic_euler_xyz([-np.pi + 1, -0.1, 0.3]),\n    [0.2, -1, 0.5])\nfocal_length = 0.0036\nsensor_size = (0.00367, 0.00274)\nimage_size = (640, 480)\nintrinsic_camera_matrix = np.array([\n    [focal_length, 0, sensor_size[0] / 2],\n    [0, focal_length, sensor_size[1] / 2],\n    [0, 0, 1]\n])\n\nworld_grid = make_world_grid(n_points_per_line=101)\nimage_grid = world2image(world_grid, cam2world, sensor_size, image_size,\n                         focal_length, kappa=0.4)\n\nplt.figure(figsize=(12, 5))\nax = make_3d_axis(1, 121, unit=\"m\")\nax.view_init(elev=30, azim=-70)\nplot_transform(ax)\nplot_transform(ax, A2B=cam2world, s=0.3, name=\"Camera\")\nplot_camera(ax, intrinsic_camera_matrix, cam2world,\n            sensor_size=sensor_size, virtual_image_distance=0.5)\nax.set_title(\"Camera and world frames\")\nax.scatter(\n    world_grid[:, 0], world_grid[:, 1], world_grid[:, 2], s=1, alpha=0.2)\nax.scatter(world_grid[-1, 0], world_grid[-1, 1], world_grid[-1, 2], color=\"r\")\nax.view_init(elev=25, azim=-130)\n\nax = plt.subplot(122, aspect=\"equal\")\nax.set_title(\"Camera image\")\nax.set_xlim(0, image_size[0])\nax.set_ylim(0, image_size[1])\nax.scatter(image_grid[:, 0], -(image_grid[:, 1] - image_size[1]))\nax.scatter(image_grid[-1, 0], -(image_grid[-1, 1] - image_size[1]), color=\"r\")\n\nplt.show()"
      ]
    }
  ],
  "metadata": {
    "kernelspec": {
      "display_name": "Python 3",
      "language": "python",
      "name": "python3"
    },
    "language_info": {
      "codemirror_mode": {
        "name": "ipython",
        "version": 3
      },
      "file_extension": ".py",
      "mimetype": "text/x-python",
      "name": "python",
      "nbconvert_exporter": "python",
      "pygments_lexer": "ipython3",
      "version": "3.11.9"
    }
  },
  "nbformat": 4,
  "nbformat_minor": 0
}