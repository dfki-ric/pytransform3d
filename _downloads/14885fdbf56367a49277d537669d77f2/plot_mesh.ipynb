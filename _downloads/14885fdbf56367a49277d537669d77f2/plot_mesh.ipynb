{
  "cells": [
    {
      "cell_type": "markdown",
      "metadata": {},
      "source": [
        "\n# Plot Mesh\n\nThis example shows how to load an STL mesh. This example must be\nrun from within the main folder because it uses a\nhard-coded path to the STL file.\n"
      ]
    },
    {
      "cell_type": "code",
      "execution_count": null,
      "metadata": {
        "collapsed": false
      },
      "outputs": [],
      "source": [
        "import os\n\nimport matplotlib.pyplot as plt\nimport numpy as np\n\nfrom pytransform3d.plot_utils import plot_mesh\nfrom pytransform3d.transformations import plot_transform\n\nBASE_DIR = \"test/test_data/\"\ndata_dir = BASE_DIR\nsearch_path = \".\"\nwhile (\n    not os.path.exists(data_dir)\n    and os.path.dirname(search_path) != \"pytransform3d\"\n):\n    search_path = os.path.join(search_path, \"..\")\n    data_dir = os.path.join(search_path, BASE_DIR)\n\nax = plot_mesh(\n    filename=os.path.join(data_dir, \"cone.stl\"), s=5 * np.ones(3), alpha=0.3\n)\nplot_transform(ax=ax, A2B=np.eye(4), s=0.3, lw=3)\nplt.show()"
      ]
    }
  ],
  "metadata": {
    "kernelspec": {
      "display_name": "Python 3",
      "language": "python",
      "name": "python3"
    },
    "language_info": {
      "codemirror_mode": {
        "name": "ipython",
        "version": 3
      },
      "file_extension": ".py",
      "mimetype": "text/x-python",
      "name": "python",
      "nbconvert_exporter": "python",
      "pygments_lexer": "ipython3",
      "version": "3.12.9"
    }
  },
  "nbformat": 4,
  "nbformat_minor": 0
}