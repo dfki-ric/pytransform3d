{
  "cells": [
    {
      "cell_type": "markdown",
      "metadata": {},
      "source": [
        "\n# Visualize Cylinder with Wrench\n\nWe apply a constant body-fixed wrench to a cylinder and integrate\nacceleration to twist and exponential coordinates of transformation\nto finally compute the new pose of the cylinder.\n"
      ]
    },
    {
      "cell_type": "code",
      "execution_count": null,
      "metadata": {
        "collapsed": false
      },
      "outputs": [],
      "source": [
        "import numpy as np\nfrom pytransform3d.transformations import (\n    transform_from_exponential_coordinates)\nimport pytransform3d.visualizer as pv\n\n\ndef spatial_inertia_of_cylinder(mass, length, radius):\n    I_xx = I_yy = 0.25 * mass * radius ** 2 + 1.0 / 12.0 * mass * length ** 2\n    I_zz = 0.5 * mass * radius ** 2\n    inertia = np.eye(6)\n    inertia[:3, :3] *= np.array([I_xx, I_yy, I_zz])\n    inertia[3:, 3:] *= mass\n    return inertia\n\n\ndef animation_callback(\n        step, cylinder, cylinder_frame, prev_cylinder2world,\n        Stheta_dot, inertia_inv):\n    if step == 0:  # Reset cylinder state\n        prev_cylinder2world[:, :] = np.eye(4)\n        Stheta_dot[:] = 0.0\n\n    # Apply constant wrench\n    wrench_in_cylinder = np.array([0.1, 0.001, 0.001, 0.01, 1.0, 1.0])\n    dt = 0.0005\n\n    Stheta_ddot = np.dot(inertia_inv, wrench_in_cylinder)\n    Stheta_dot += dt * Stheta_ddot\n    cylinder2world = transform_from_exponential_coordinates(\n        dt * Stheta_dot).dot(prev_cylinder2world)\n\n    # Update visualization\n    cylinder_frame.set_data(cylinder2world)\n    cylinder.set_data(cylinder2world)\n\n    prev_cylinder2world[:, :] = cylinder2world\n\n    return cylinder_frame, cylinder\n\n\nfig = pv.figure()\n\n# Definition of cylinder\nmass = 1.0\nlength = 0.5\nradius = 0.1\ninertia_inv = np.linalg.inv(\n    spatial_inertia_of_cylinder(mass=mass, length=length, radius=radius))\n\n# State of cylinder\ncylinder2world = np.eye(4)\ntwist = np.zeros(6)\n\ncylinder = fig.plot_cylinder(length=length, radius=radius, c=[1, 0.5, 0])\ncylinder_frame = fig.plot_transform(A2B=cylinder2world, s=0.5)\n\nfig.plot_transform(A2B=np.eye(4), s=0.5)\n\nfig.view_init()\n\nif \"__file__\" in globals():\n    fig.animate(\n        animation_callback, n_frames=10000,\n        fargs=(cylinder, cylinder_frame, cylinder2world, twist, inertia_inv),\n        loop=True)\n    fig.show()\nelse:\n    fig.save_image(\"__open3d_rendered_image.jpg\")"
      ]
    }
  ],
  "metadata": {
    "kernelspec": {
      "display_name": "Python 3",
      "language": "python",
      "name": "python3"
    },
    "language_info": {
      "codemirror_mode": {
        "name": "ipython",
        "version": 3
      },
      "file_extension": ".py",
      "mimetype": "text/x-python",
      "name": "python",
      "nbconvert_exporter": "python",
      "pygments_lexer": "ipython3",
      "version": "3.11.9"
    }
  },
  "nbformat": 4,
  "nbformat_minor": 0
}