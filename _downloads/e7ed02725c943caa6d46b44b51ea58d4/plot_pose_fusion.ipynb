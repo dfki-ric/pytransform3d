{
  "cells": [
    {
      "cell_type": "markdown",
      "metadata": {},
      "source": [
        "\n# Fuse 3 Poses\n\nEach of the poses is has an associated covariance that is considered during\nthe fusion. Each of the plots shows a projection of the distributions in\nexponential coordinate space to two dimensions. Red, green, and blue ellipses\nrepresent the uncertain poses that will be fused. A black ellipse indicates\nthe fused pose's distribution.\n\nThis example is from\n\nBarfoot, Furgale: Associating Uncertainty With Three-Dimensional Poses for Use\nin Estimation Problems, http://ncfrn.mcgill.ca/members/pubs/barfoot_tro14.pdf\n"
      ]
    },
    {
      "cell_type": "code",
      "execution_count": null,
      "metadata": {
        "collapsed": false
      },
      "outputs": [],
      "source": [
        "import numpy as np\nimport matplotlib.pyplot as plt\nimport pytransform3d.uncertainty as pu\nimport pytransform3d.transformations as pt\n\n\ndef to_ellipse(cov, factor=1.0):\n    \"\"\"Compute error ellipse.\n\n    An error ellipse shows equiprobable points of a 2D Gaussian distribution.\n\n    Parameters\n    ----------\n    cov : array-like, shape (2, 2)\n        Covariance of the Gaussian distribution.\n\n    factor : float, optional (default: 1)\n        One means standard deviation.\n\n    Returns\n    -------\n    angle : float\n        Rotation angle of the ellipse.\n\n    width : float\n        Width of the ellipse (semi axis, not diameter).\n\n    height : float\n        Height of the ellipse (semi axis, not diameter).\n    \"\"\"\n    from scipy import linalg\n    vals, vecs = linalg.eigh(cov)\n    order = vals.argsort()[::-1]\n    vals, vecs = vals[order], vecs[:, order]\n    angle = np.arctan2(*vecs[:, 0][::-1])\n    width, height = factor * np.sqrt(vals)\n    return angle, width, height\n\n\ndef plot_error_ellipse(ax, mean, cov, color=None, alpha=0.25,\n                       factors=np.linspace(0.25, 2.0, 8)):\n    \"\"\"Plot error ellipse of MVN.\n\n    Parameters\n    ----------\n    ax : axis\n        Matplotlib axis.\n\n    mean : array-like, shape (2,)\n        Mean of the Gaussian distribution.\n\n    cov : array-like, shape (2, 2)\n        Covariance of the Gaussian distribution.\n\n    color : str, optional (default: None)\n        Color in which the ellipse should be plotted\n\n    alpha : float, optional (default: 0.25)\n        Alpha value for ellipse\n\n    factors : array, optional (default: np.linspace(0.25, 2.0, 8))\n        Multiples of the standard deviations that should be plotted.\n    \"\"\"\n    from matplotlib.patches import Ellipse\n    for factor in factors:\n        angle, width, height = to_ellipse(cov, factor)\n        ell = Ellipse(xy=mean, width=2.0 * width, height=2.0 * height,\n                      angle=np.degrees(angle))\n        ell.set_alpha(alpha)\n        if color is not None:\n            ell.set_color(color)\n        ax.add_artist(ell)\n\n\nx_true = np.array([1.0, 0.0, 0.0, 0.0, 0.0, np.pi / 6.0])\nT_true = pt.transform_from_exponential_coordinates(x_true)\nalpha = 5.0\ncov1 = alpha * np.diag([0.1, 0.2, 0.1, 2.0, 1.0, 1.0])\ncov2 = alpha * np.diag([0.1, 0.1, 0.2, 1.0, 3.0, 1.0])\ncov3 = alpha * np.diag([0.2, 0.1, 0.1, 1.0, 1.0, 5.0])\n\nrng = np.random.default_rng(0)\n\nT1 = np.dot(pt.transform_from_exponential_coordinates(\n    pt.random_exponential_coordinates(rng=rng, cov=cov1)), T_true)\nT2 = np.dot(pt.transform_from_exponential_coordinates(\n    pt.random_exponential_coordinates(rng=rng, cov=cov2)), T_true)\nT3 = np.dot(pt.transform_from_exponential_coordinates(\n    pt.random_exponential_coordinates(rng=rng, cov=cov3)), T_true)\n\nx1 = pt.exponential_coordinates_from_transform(T1)\nx2 = pt.exponential_coordinates_from_transform(T2)\nx3 = pt.exponential_coordinates_from_transform(T3)\n\nT_est, cov_est, V = pu.pose_fusion([T1, T2, T3], [cov1, cov2, cov3])\nx_est = pt.exponential_coordinates_from_transform(T_est)\n\n_, axes = plt.subplots(\n    nrows=6, ncols=6, sharex=True, sharey=True, squeeze=True, figsize=(10, 10))\nfactors = [1.0]\nfor i in range(6):\n    for j in range(6):\n        if i == j:\n            continue\n\n        indices = np.array([i, j])\n        ax = axes[i][j]\n\n        for x, cov, color in zip([x1, x2, x3], [cov1, cov2, cov3], \"rgb\"):\n            plot_error_ellipse(\n                ax, x[indices], cov[indices][:, indices],\n                color=color, alpha=0.4, factors=factors)\n\n        plot_error_ellipse(\n            ax, x_est[indices], cov_est[indices][:, indices],\n            color=\"k\", alpha=1, factors=factors)\n\n        ax.scatter(x_true[i], x_true[j])\n\n        ax.set_xlim((-10, 10))\n        ax.set_ylim((-10, 10))\n\nplt.show()"
      ]
    }
  ],
  "metadata": {
    "kernelspec": {
      "display_name": "Python 3",
      "language": "python",
      "name": "python3"
    },
    "language_info": {
      "codemirror_mode": {
        "name": "ipython",
        "version": 3
      },
      "file_extension": ".py",
      "mimetype": "text/x-python",
      "name": "python",
      "nbconvert_exporter": "python",
      "pygments_lexer": "ipython3",
      "version": "3.11.9"
    }
  },
  "nbformat": 4,
  "nbformat_minor": 0
}